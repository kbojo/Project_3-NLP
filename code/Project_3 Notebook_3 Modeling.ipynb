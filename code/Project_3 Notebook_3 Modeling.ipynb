{
 "cells": [
  {
   "cell_type": "markdown",
   "metadata": {},
   "source": [
    "### Project 3 -  Natural Language Processing on Parenting Related Reddit\n",
    "## Notebook 3/4: Modeling\n",
    "\n",
    "#### Kristina Joos\n",
    "\n",
    "Notebook 1: Obtaining Data.  \n",
    "Notebook 2: Cleaning and Modifying Data.  \n",
    "Notebook 3: Modeling.  \n",
    "Notebook 4: Predicting.  \n",
    "\n",
    "---\n",
    "\n"
   ]
  },
  {
   "cell_type": "markdown",
   "metadata": {},
   "source": [
    "\n",
    "# 3. Modeling"
   ]
  },
  {
   "cell_type": "markdown",
   "metadata": {},
   "source": [
    "---\n",
    "## 3.1. Importing"
   ]
  },
  {
   "cell_type": "code",
   "execution_count": 34,
   "metadata": {},
   "outputs": [],
   "source": [
    "import numpy as np\n",
    "import pandas as pd\n",
    "from sklearn.model_selection import train_test_split\n",
    "from sklearn.linear_model import LogisticRegressionCV\n",
    "from sklearn.linear_model import LogisticRegression\n",
    "from sklearn.naive_bayes import MultinomialNB\n",
    "from sklearn.pipeline import Pipeline\n",
    "from sklearn.model_selection import GridSearchCV, RandomizedSearchCV\n",
    "from sklearn.feature_extraction.text import CountVectorizer, TfidfVectorizer, TfidfTransformer\n",
    "from sklearn.metrics import confusion_matrix, roc_auc_score, roc_curve, auc\n",
    "import matplotlib.pyplot as plt\n",
    "import seaborn as sns\n",
    "from sklearn.tree import DecisionTreeClassifier\n",
    "from sklearn.ensemble import BaggingClassifier\n",
    "from sklearn.svm import SVC\n",
    "\n",
    "import itertools\n"
   ]
  },
  {
   "cell_type": "code",
   "execution_count": 35,
   "metadata": {},
   "outputs": [],
   "source": [
    "# Reading Traiing Data as d_df:\n",
    "d_df = pd.read_csv('../data/depression.csv')\n"
   ]
  },
  {
   "cell_type": "markdown",
   "metadata": {},
   "source": [
    "\n",
    "---\n",
    "## 3.2. Defining X and y, Train-Test-Split"
   ]
  },
  {
   "cell_type": "markdown",
   "metadata": {},
   "source": [
    "### 3.2.1. Defining X and y"
   ]
  },
  {
   "cell_type": "code",
   "execution_count": 11,
   "metadata": {},
   "outputs": [],
   "source": [
    "X = d_df['doc']\n",
    "y = d_df['class']"
   ]
  },
  {
   "cell_type": "code",
   "execution_count": 12,
   "metadata": {},
   "outputs": [
    {
     "data": {
      "text/plain": [
       "(5298,)"
      ]
     },
     "execution_count": 12,
     "metadata": {},
     "output_type": "execute_result"
    }
   ],
   "source": [
    "X.shape"
   ]
  },
  {
   "cell_type": "code",
   "execution_count": 13,
   "metadata": {},
   "outputs": [
    {
     "data": {
      "text/plain": [
       "0       1\n",
       "1       1\n",
       "2       1\n",
       "3       1\n",
       "4       1\n",
       "       ..\n",
       "5293    0\n",
       "5294    0\n",
       "5295    0\n",
       "5296    0\n",
       "5297    0\n",
       "Name: class, Length: 5298, dtype: int64"
      ]
     },
     "execution_count": 13,
     "metadata": {},
     "output_type": "execute_result"
    }
   ],
   "source": [
    "d_df['class']"
   ]
  },
  {
   "cell_type": "markdown",
   "metadata": {},
   "source": [
    "### 3.2.2. Train-Test-Split"
   ]
  },
  {
   "cell_type": "code",
   "execution_count": 14,
   "metadata": {},
   "outputs": [],
   "source": [
    "X_train, X_test, y_train, y_test = train_test_split(X, y, random_state = 13, stratify = y)"
   ]
  },
  {
   "cell_type": "code",
   "execution_count": 15,
   "metadata": {},
   "outputs": [
    {
     "data": {
      "text/plain": [
       "0    0.593254\n",
       "1    0.406746\n",
       "Name: class, dtype: float64"
      ]
     },
     "execution_count": 15,
     "metadata": {},
     "output_type": "execute_result"
    }
   ],
   "source": [
    "y_train.value_counts(normalize=True)"
   ]
  },
  {
   "cell_type": "code",
   "execution_count": 16,
   "metadata": {},
   "outputs": [
    {
     "data": {
      "text/plain": [
       "0    0.593208\n",
       "1    0.406792\n",
       "Name: class, dtype: float64"
      ]
     },
     "execution_count": 16,
     "metadata": {},
     "output_type": "execute_result"
    }
   ],
   "source": [
    "y_test.value_counts(normalize=True)"
   ]
  },
  {
   "cell_type": "markdown",
   "metadata": {},
   "source": [
    "\n",
    "---\n",
    "## 3.3. Scoring Function\n",
    "\n",
    "Custom function to score a model:  \n",
    "It prints Accuracy of Train and Test Data Set and the ROC AUC.  \n",
    "It aslo saves the scores to a dictionary (score_dict).  "
   ]
  },
  {
   "cell_type": "code",
   "execution_count": 33,
   "metadata": {},
   "outputs": [],
   "source": [
    "score_dict={}\n",
    "\n",
    "def make_scores(gsmodel, model_name):\n",
    "    \n",
    "    train_score = gsmodel.score(X_train, y_train)\n",
    "    test_score = gsmodel.score(X_test, y_test)\n",
    "    fpr, tpr, thresholds = roc_curve(y_test, gsmodel.predict(X_test), pos_label=1)\n",
    "    cvect_mnb_AUC = auc(fpr, tpr)\n",
    "   \n",
    "    print(f'{model_name} Best Accuracy Training Set: {train_score}')\n",
    "    \n",
    "    print(f'{model_name} Best Accuracy Test Set: {test_score}')\n",
    "    \n",
    "    print(f'{model_name} ROC AUC: {cvect_mnb_AUC}')\n",
    "    \n",
    "    \n",
    "    score_dict[model_name] = [train_score, test_score, cvect_mnb_AUC]"
   ]
  },
  {
   "cell_type": "markdown",
   "metadata": {},
   "source": [
    "---\n",
    "## 3.4. Logistic Regression"
   ]
  },
  {
   "cell_type": "markdown",
   "metadata": {},
   "source": [
    "__Note:__ I am using the stop words \"sleep\", \"bed\" and \"night\".\n",
    "Sleep is an important factor in depression, but it parenting groups it is also used in the context of sleeptraining. To correct for this, I am going to exclude this words from the use in the model."
   ]
  },
  {
   "cell_type": "markdown",
   "metadata": {},
   "source": [
    "### 3.4.1 CounterVectorizer"
   ]
  },
  {
   "cell_type": "code",
   "execution_count": 27,
   "metadata": {},
   "outputs": [],
   "source": [
    "# instantiate pipeline\n",
    "\n",
    "pipe_cvect_logreg = Pipeline([('cvec', CountVectorizer(stop_words = ['sleep', 'bed', 'night'])),\n",
    "                      ('logreg', LogisticRegression(penalty='l1', C=0.1))])"
   ]
  },
  {
   "cell_type": "code",
   "execution_count": 28,
   "metadata": {},
   "outputs": [],
   "source": [
    "# pipline parameters \n",
    "\n",
    "# I took out the different regex patterns.Choosing an other pattern increased the variance of my results,\n",
    "# but only increased the train score very little. This is the default pattern CounterVectorizer uses: (r'(?u)\\b\\w\\w+\\b').\n",
    "\n",
    "# I took out the stop_words from the Grid Search. The best model was always the model without stop words.\n",
    "# I am adding my custom stop words while instantiating the pipeline.\n",
    "\n",
    "pipe_cvect_logreg_paras = {\n",
    "    'cvec__max_features': [3000, 2000, 1000],\n",
    "    #'cvec__stop_words': [None, 'english'],\n",
    "    'cvec__ngram_range':[(1,1), (1,2)],\n",
    "    'cvec__min_df': [2,3,4,5],\n",
    "    'cvec__max_df': [0.8, 0.85, 0.90, 0.95, 0.98],\n",
    "    #'cvec__token_pattern': [(r'(?u)\\b\\w+\\b'),(r'(?u)\\b\\w\\w+\\b'), (r'(?u)\\b\\w\\w\\w+\\b')]\n",
    "} "
   ]
  },
  {
   "cell_type": "code",
   "execution_count": 29,
   "metadata": {},
   "outputs": [],
   "source": [
    "# grid search\n",
    "\n",
    "cvect_logreg_gs = GridSearchCV(pipe_cvect_logreg,\n",
    "                               pipe_cvect_logreg_paras,\n",
    "                               verbose = 1,\n",
    "                               cv = 3,\n",
    "                               n_jobs = 6\n",
    "                              )"
   ]
  },
  {
   "cell_type": "code",
   "execution_count": 30,
   "metadata": {},
   "outputs": [
    {
     "name": "stdout",
     "output_type": "stream",
     "text": [
      "Fitting 3 folds for each of 120 candidates, totalling 360 fits\n"
     ]
    },
    {
     "name": "stderr",
     "output_type": "stream",
     "text": [
      "[Parallel(n_jobs=6)]: Using backend LokyBackend with 6 concurrent workers.\n",
      "[Parallel(n_jobs=6)]: Done  38 tasks      | elapsed:   12.5s\n",
      "[Parallel(n_jobs=6)]: Done 188 tasks      | elapsed:   59.2s\n",
      "[Parallel(n_jobs=6)]: Done 360 out of 360 | elapsed:  1.9min finished\n",
      "/Users/kristina/anaconda3/lib/python3.7/site-packages/sklearn/linear_model/logistic.py:432: FutureWarning: Default solver will be changed to 'lbfgs' in 0.22. Specify a solver to silence this warning.\n",
      "  FutureWarning)\n"
     ]
    },
    {
     "data": {
      "text/plain": [
       "GridSearchCV(cv=3, error_score='raise-deprecating',\n",
       "             estimator=Pipeline(memory=None,\n",
       "                                steps=[('cvec',\n",
       "                                        CountVectorizer(analyzer='word',\n",
       "                                                        binary=False,\n",
       "                                                        decode_error='strict',\n",
       "                                                        dtype=<class 'numpy.int64'>,\n",
       "                                                        encoding='utf-8',\n",
       "                                                        input='content',\n",
       "                                                        lowercase=True,\n",
       "                                                        max_df=1.0,\n",
       "                                                        max_features=None,\n",
       "                                                        min_df=1,\n",
       "                                                        ngram_range=(1, 1),\n",
       "                                                        preprocessor=None,\n",
       "                                                        stop_words=['sleep',\n",
       "                                                                    'bed',\n",
       "                                                                    'night'],\n",
       "                                                        str...\n",
       "                                                           penalty='l1',\n",
       "                                                           random_state=None,\n",
       "                                                           solver='warn',\n",
       "                                                           tol=0.0001,\n",
       "                                                           verbose=0,\n",
       "                                                           warm_start=False))],\n",
       "                                verbose=False),\n",
       "             iid='warn', n_jobs=6,\n",
       "             param_grid={'cvec__max_df': [0.8, 0.85, 0.9, 0.95, 0.98],\n",
       "                         'cvec__max_features': [3000, 2000, 1000],\n",
       "                         'cvec__min_df': [2, 3, 4, 5],\n",
       "                         'cvec__ngram_range': [(1, 1), (1, 2)]},\n",
       "             pre_dispatch='2*n_jobs', refit=True, return_train_score=False,\n",
       "             scoring=None, verbose=1)"
      ]
     },
     "execution_count": 30,
     "metadata": {},
     "output_type": "execute_result"
    }
   ],
   "source": [
    "# fit to training set\n",
    "\n",
    "cvect_logreg_gs.fit(X_train, y_train)"
   ]
  },
  {
   "cell_type": "code",
   "execution_count": 36,
   "metadata": {},
   "outputs": [
    {
     "name": "stdout",
     "output_type": "stream",
     "text": [
      "CVect/LogReg Best Accuracy Training Set: 0.9048577900830607\n",
      "CVect/LogReg Best Accuracy Test Set: 0.8807547169811321\n",
      "CVect/LogReg ROC AUC: 0.8671333210591662\n"
     ]
    }
   ],
   "source": [
    "make_scores(cvect_logreg_gs,'CVect/LogReg' )"
   ]
  },
  {
   "cell_type": "markdown",
   "metadata": {},
   "source": [
    "### 3.4.2 TFIDFVectorizer"
   ]
  },
  {
   "cell_type": "code",
   "execution_count": 37,
   "metadata": {},
   "outputs": [],
   "source": [
    "# instantiate pipeline\n",
    "pipe_tfidf_logreg = Pipeline([('tfidf', TfidfVectorizer(stop_words = ['sleep', 'bed', 'night'])),\n",
    "                      ('logreg', LogisticRegression(penalty='l1', C=0.1))])"
   ]
  },
  {
   "cell_type": "code",
   "execution_count": 38,
   "metadata": {},
   "outputs": [],
   "source": [
    "# pipline parameters \n",
    "\n",
    "pipe_tfidf_logreg_paras = {\n",
    "    'tfidf__max_features': [1000, 2000, 3000],\n",
    "    #'tfidf__stop_words': [None, 'english'],\n",
    "    'tfidf__ngram_range':[(1,1), (1,2)],\n",
    "    'tfidf__min_df': [2,3,4,5],\n",
    "    'tfidf__max_df': [0.8, 0.85, 0.90, 0.95, 0.98]\n",
    "}"
   ]
  },
  {
   "cell_type": "code",
   "execution_count": 39,
   "metadata": {},
   "outputs": [],
   "source": [
    "# grid search\n",
    "\n",
    "tfidf_logreg_gs = GridSearchCV(pipe_tfidf_logreg,\n",
    "                               pipe_tfidf_logreg_paras,\n",
    "                               verbose = 1,\n",
    "                               cv = 3,\n",
    "                               n_jobs = 8\n",
    "                              )"
   ]
  },
  {
   "cell_type": "code",
   "execution_count": 40,
   "metadata": {},
   "outputs": [
    {
     "name": "stdout",
     "output_type": "stream",
     "text": [
      "Fitting 3 folds for each of 120 candidates, totalling 360 fits\n"
     ]
    },
    {
     "name": "stderr",
     "output_type": "stream",
     "text": [
      "[Parallel(n_jobs=8)]: Using backend LokyBackend with 8 concurrent workers.\n",
      "[Parallel(n_jobs=8)]: Done  34 tasks      | elapsed:   10.0s\n",
      "[Parallel(n_jobs=8)]: Done 184 tasks      | elapsed:   53.7s\n",
      "[Parallel(n_jobs=8)]: Done 360 out of 360 | elapsed:  1.8min finished\n",
      "/Users/kristina/anaconda3/lib/python3.7/site-packages/sklearn/linear_model/logistic.py:432: FutureWarning: Default solver will be changed to 'lbfgs' in 0.22. Specify a solver to silence this warning.\n",
      "  FutureWarning)\n"
     ]
    },
    {
     "data": {
      "text/plain": [
       "GridSearchCV(cv=3, error_score='raise-deprecating',\n",
       "             estimator=Pipeline(memory=None,\n",
       "                                steps=[('tfidf',\n",
       "                                        TfidfVectorizer(analyzer='word',\n",
       "                                                        binary=False,\n",
       "                                                        decode_error='strict',\n",
       "                                                        dtype=<class 'numpy.float64'>,\n",
       "                                                        encoding='utf-8',\n",
       "                                                        input='content',\n",
       "                                                        lowercase=True,\n",
       "                                                        max_df=1.0,\n",
       "                                                        max_features=None,\n",
       "                                                        min_df=1,\n",
       "                                                        ngram_range=(1, 1),\n",
       "                                                        norm='l2',\n",
       "                                                        preprocessor=None,\n",
       "                                                        smooth_idf=True,\n",
       "                                                        stop_word...\n",
       "                                                           penalty='l1',\n",
       "                                                           random_state=None,\n",
       "                                                           solver='warn',\n",
       "                                                           tol=0.0001,\n",
       "                                                           verbose=0,\n",
       "                                                           warm_start=False))],\n",
       "                                verbose=False),\n",
       "             iid='warn', n_jobs=8,\n",
       "             param_grid={'tfidf__max_df': [0.8, 0.85, 0.9, 0.95, 0.98],\n",
       "                         'tfidf__max_features': [1000, 2000, 3000],\n",
       "                         'tfidf__min_df': [2, 3, 4, 5],\n",
       "                         'tfidf__ngram_range': [(1, 1), (1, 2)]},\n",
       "             pre_dispatch='2*n_jobs', refit=True, return_train_score=False,\n",
       "             scoring=None, verbose=1)"
      ]
     },
     "execution_count": 40,
     "metadata": {},
     "output_type": "execute_result"
    }
   ],
   "source": [
    "# fit to training set\n",
    "\n",
    "tfidf_logreg_gs.fit(X_train, y_train)"
   ]
  },
  {
   "cell_type": "code",
   "execution_count": 41,
   "metadata": {
    "scrolled": true
   },
   "outputs": [
    {
     "name": "stdout",
     "output_type": "stream",
     "text": [
      "TFIDF/LogReg Best Accuracy Training Set: 0.8223005285678329\n",
      "TFIDF/LogReg Best Accuracy Test Set: 0.8150943396226416\n",
      "TFIDF/LogReg ROC AUC: 0.7867198232519933\n"
     ]
    }
   ],
   "source": [
    "make_scores(tfidf_logreg_gs, 'TFIDF/LogReg')"
   ]
  },
  {
   "cell_type": "markdown",
   "metadata": {},
   "source": [
    "---\n",
    "## 3.5. Multinominal Naive Bayes (MNB)"
   ]
  },
  {
   "cell_type": "markdown",
   "metadata": {},
   "source": [
    "__Note:__ I am using the stop words \"sleep\", \"bed\" and \"night\".\n",
    "Sleep is an important factor in depression, but it parenting groups it is also used in the context of sleeptraining. To correct for this, I am going to exclude this words from the use in the model."
   ]
  },
  {
   "cell_type": "markdown",
   "metadata": {},
   "source": [
    "### 3.5.1 CounterVectorizer"
   ]
  },
  {
   "cell_type": "code",
   "execution_count": 42,
   "metadata": {},
   "outputs": [],
   "source": [
    "# instantiate pipeline\n",
    "pipe_cvect_mnb = Pipeline([('cvec', CountVectorizer(stop_words = ['sleep', 'bed', 'night'])),\n",
    "                      ('mnb', MultinomialNB())])"
   ]
  },
  {
   "cell_type": "code",
   "execution_count": 43,
   "metadata": {},
   "outputs": [],
   "source": [
    "# pipline parameters \n",
    "\n",
    "pipe_cvect_mnb_paras = {\n",
    "    'cvec__max_features': [1000, 2000, 3000],\n",
    "    #'cvec__stop_words': [None, 'english'],\n",
    "    'cvec__ngram_range':[(1,1), (1,2)],\n",
    "    'cvec__min_df': [2,3,4,5],\n",
    "    'cvec__max_df': [0.8, 0.85, 0.90],\n",
    "    'mnb__alpha': [1,5,10]\n",
    "}"
   ]
  },
  {
   "cell_type": "code",
   "execution_count": 44,
   "metadata": {},
   "outputs": [],
   "source": [
    "# grid search\n",
    "\n",
    "cvect_mnb_gs = GridSearchCV(pipe_cvect_mnb,\n",
    "                               pipe_cvect_mnb_paras,\n",
    "                               verbose = 1,\n",
    "                               cv = 3,\n",
    "                               n_jobs = 8\n",
    "                              )"
   ]
  },
  {
   "cell_type": "code",
   "execution_count": 45,
   "metadata": {},
   "outputs": [
    {
     "name": "stdout",
     "output_type": "stream",
     "text": [
      "Fitting 3 folds for each of 216 candidates, totalling 648 fits\n"
     ]
    },
    {
     "name": "stderr",
     "output_type": "stream",
     "text": [
      "[Parallel(n_jobs=8)]: Using backend LokyBackend with 8 concurrent workers.\n",
      "[Parallel(n_jobs=8)]: Done  34 tasks      | elapsed:   10.0s\n",
      "/Users/kristina/anaconda3/lib/python3.7/site-packages/joblib/externals/loky/process_executor.py:706: UserWarning: A worker stopped while some jobs were given to the executor. This can be caused by a too short worker timeout or by a memory leak.\n",
      "  \"timeout or by a memory leak.\", UserWarning\n",
      "[Parallel(n_jobs=8)]: Done 184 tasks      | elapsed:   51.8s\n",
      "[Parallel(n_jobs=8)]: Done 434 tasks      | elapsed:  2.1min\n",
      "[Parallel(n_jobs=8)]: Done 648 out of 648 | elapsed:  3.2min finished\n"
     ]
    },
    {
     "data": {
      "text/plain": [
       "GridSearchCV(cv=3, error_score='raise-deprecating',\n",
       "             estimator=Pipeline(memory=None,\n",
       "                                steps=[('cvec',\n",
       "                                        CountVectorizer(analyzer='word',\n",
       "                                                        binary=False,\n",
       "                                                        decode_error='strict',\n",
       "                                                        dtype=<class 'numpy.int64'>,\n",
       "                                                        encoding='utf-8',\n",
       "                                                        input='content',\n",
       "                                                        lowercase=True,\n",
       "                                                        max_df=1.0,\n",
       "                                                        max_features=None,\n",
       "                                                        min_df=1,\n",
       "                                                        ngram_range=(1, 1),\n",
       "                                                        preprocessor=None,\n",
       "                                                        stop_words=['sleep',\n",
       "                                                                    'bed',\n",
       "                                                                    'night'],\n",
       "                                                        str...\n",
       "                                                        vocabulary=None)),\n",
       "                                       ('mnb',\n",
       "                                        MultinomialNB(alpha=1.0,\n",
       "                                                      class_prior=None,\n",
       "                                                      fit_prior=True))],\n",
       "                                verbose=False),\n",
       "             iid='warn', n_jobs=8,\n",
       "             param_grid={'cvec__max_df': [0.8, 0.85, 0.9],\n",
       "                         'cvec__max_features': [1000, 2000, 3000],\n",
       "                         'cvec__min_df': [2, 3, 4, 5],\n",
       "                         'cvec__ngram_range': [(1, 1), (1, 2)],\n",
       "                         'mnb__alpha': [1, 5, 10]},\n",
       "             pre_dispatch='2*n_jobs', refit=True, return_train_score=False,\n",
       "             scoring=None, verbose=1)"
      ]
     },
     "execution_count": 45,
     "metadata": {},
     "output_type": "execute_result"
    }
   ],
   "source": [
    "# fit to training set\n",
    "\n",
    "cvect_mnb_gs.fit(X_train, y_train)"
   ]
  },
  {
   "cell_type": "code",
   "execution_count": 46,
   "metadata": {},
   "outputs": [
    {
     "name": "stdout",
     "output_type": "stream",
     "text": [
      "CVect/MNB Best Accuracy Training Set: 0.8973068210420337\n",
      "CVect/MNB Best Accuracy Test Set: 0.8905660377358491\n",
      "CVect/MNB ROC AUC: 0.8978494242943535\n"
     ]
    }
   ],
   "source": [
    "# Scoring\n",
    "\n",
    "make_scores(cvect_mnb_gs,'CVect/MNB' )"
   ]
  },
  {
   "cell_type": "markdown",
   "metadata": {},
   "source": [
    "### 3.5.2 TFIDFVectorizer"
   ]
  },
  {
   "cell_type": "code",
   "execution_count": 47,
   "metadata": {},
   "outputs": [],
   "source": [
    "# instantiate pipeline\n",
    "pipe_tfidf_mnb = Pipeline([('tfidf', TfidfVectorizer(stop_words = ['sleep', 'bed', 'night'])),\n",
    "                      ('mnb', MultinomialNB(alpha=5))])"
   ]
  },
  {
   "cell_type": "code",
   "execution_count": 48,
   "metadata": {},
   "outputs": [],
   "source": [
    "# pipline parameters \n",
    "\n",
    "pipe_tfidf_mnb_paras = {\n",
    "    'tfidf__max_features': [1000, 2000, 3000],\n",
    "    #'tfidf__stop_words': [None, 'english'],\n",
    "    'tfidf__ngram_range':[(1,1), (1,2)],\n",
    "    'tfidf__min_df': [2,3,4,5],\n",
    "    'tfidf__max_df': [0.8, 0.85, 0.90, 0.95, 0.98],\n",
    "    'mnb__alpha': [1,5,10]\n",
    "}"
   ]
  },
  {
   "cell_type": "code",
   "execution_count": 49,
   "metadata": {},
   "outputs": [],
   "source": [
    "# grid search\n",
    "\n",
    "tfidf_mnb_gs = GridSearchCV(pipe_tfidf_mnb,\n",
    "                               pipe_tfidf_mnb_paras,\n",
    "                               verbose = 1,\n",
    "                               cv = 3,\n",
    "                               n_jobs = 8\n",
    "                              )"
   ]
  },
  {
   "cell_type": "code",
   "execution_count": 50,
   "metadata": {},
   "outputs": [
    {
     "name": "stdout",
     "output_type": "stream",
     "text": [
      "Fitting 3 folds for each of 360 candidates, totalling 1080 fits\n"
     ]
    },
    {
     "name": "stderr",
     "output_type": "stream",
     "text": [
      "[Parallel(n_jobs=8)]: Using backend LokyBackend with 8 concurrent workers.\n",
      "[Parallel(n_jobs=8)]: Done  34 tasks      | elapsed:    9.9s\n",
      "/Users/kristina/anaconda3/lib/python3.7/site-packages/joblib/externals/loky/process_executor.py:706: UserWarning: A worker stopped while some jobs were given to the executor. This can be caused by a too short worker timeout or by a memory leak.\n",
      "  \"timeout or by a memory leak.\", UserWarning\n",
      "[Parallel(n_jobs=8)]: Done 184 tasks      | elapsed:   53.8s\n",
      "[Parallel(n_jobs=8)]: Done 434 tasks      | elapsed:  2.1min\n",
      "[Parallel(n_jobs=8)]: Done 784 tasks      | elapsed:  3.9min\n",
      "[Parallel(n_jobs=8)]: Done 1080 out of 1080 | elapsed:  5.6min finished\n"
     ]
    },
    {
     "data": {
      "text/plain": [
       "GridSearchCV(cv=3, error_score='raise-deprecating',\n",
       "             estimator=Pipeline(memory=None,\n",
       "                                steps=[('tfidf',\n",
       "                                        TfidfVectorizer(analyzer='word',\n",
       "                                                        binary=False,\n",
       "                                                        decode_error='strict',\n",
       "                                                        dtype=<class 'numpy.float64'>,\n",
       "                                                        encoding='utf-8',\n",
       "                                                        input='content',\n",
       "                                                        lowercase=True,\n",
       "                                                        max_df=1.0,\n",
       "                                                        max_features=None,\n",
       "                                                        min_df=1,\n",
       "                                                        ngram_range=(1, 1),\n",
       "                                                        norm='l2',\n",
       "                                                        preprocessor=None,\n",
       "                                                        smooth_idf=True,\n",
       "                                                        stop_word...\n",
       "                                        MultinomialNB(alpha=5, class_prior=None,\n",
       "                                                      fit_prior=True))],\n",
       "                                verbose=False),\n",
       "             iid='warn', n_jobs=8,\n",
       "             param_grid={'mnb__alpha': [1, 5, 10],\n",
       "                         'tfidf__max_df': [0.8, 0.85, 0.9, 0.95, 0.98],\n",
       "                         'tfidf__max_features': [1000, 2000, 3000],\n",
       "                         'tfidf__min_df': [2, 3, 4, 5],\n",
       "                         'tfidf__ngram_range': [(1, 1), (1, 2)]},\n",
       "             pre_dispatch='2*n_jobs', refit=True, return_train_score=False,\n",
       "             scoring=None, verbose=1)"
      ]
     },
     "execution_count": 50,
     "metadata": {},
     "output_type": "execute_result"
    }
   ],
   "source": [
    "# fit to training set\n",
    "\n",
    "tfidf_mnb_gs.fit(X_train, y_train)"
   ]
  },
  {
   "cell_type": "code",
   "execution_count": 51,
   "metadata": {},
   "outputs": [
    {
     "name": "stdout",
     "output_type": "stream",
     "text": [
      "TFIDF/MNB Best Accuracy Training Set: 0.9119053611880191\n",
      "TFIDF/MNB Best Accuracy Test Set: 0.9018867924528302\n",
      "TFIDF/MNB ROC AUC: 0.9053508287423228\n"
     ]
    }
   ],
   "source": [
    "# scoring\n",
    "\n",
    "make_scores(tfidf_mnb_gs,'TFIDF/MNB')"
   ]
  },
  {
   "cell_type": "markdown",
   "metadata": {},
   "source": [
    "---\n",
    "## 3.6. Decision Tree"
   ]
  },
  {
   "cell_type": "code",
   "execution_count": 52,
   "metadata": {},
   "outputs": [],
   "source": [
    "# instantiate pipeline\n",
    "pipe_tfidf_dt = Pipeline([('tfidf', TfidfVectorizer(stop_words = ['sleep', 'bed', 'night'])),\n",
    "                      ('dt', DecisionTreeClassifier())])\n",
    "\n",
    "# pipline parameters \n",
    "\n",
    "pipe_tfidft_dt_paras = {\n",
    "    'tfidf__max_features': [1000, 2000, 3000],\n",
    "    #'cvec__stop_words': [None, 'english'],\n",
    "    'tfidf__ngram_range':[(1,1), (1,2)],\n",
    "    'tfidf__min_df': [3,4,5],\n",
    "    'tfidf__max_df': [0.85, 0.95],\n",
    "    'tfidf__use_idf': [True, False], # False == Counter Vectorizer Functionality\n",
    "    'dt__max_depth': [5,6],\n",
    "    'dt__min_samples_leaf': [3,4],\n",
    "    'dt__min_samples_split': [6,7]}\n"
   ]
  },
  {
   "cell_type": "code",
   "execution_count": 53,
   "metadata": {},
   "outputs": [],
   "source": [
    "tfidf_dt_gs = GridSearchCV(pipe_tfidf_dt,\n",
    "                               pipe_tfidft_dt_paras,\n",
    "                               verbose = 1,\n",
    "                               cv = 3,\n",
    "                               n_jobs = -1\n",
    "                              )"
   ]
  },
  {
   "cell_type": "code",
   "execution_count": 54,
   "metadata": {},
   "outputs": [
    {
     "name": "stdout",
     "output_type": "stream",
     "text": [
      "Fitting 3 folds for each of 576 candidates, totalling 1728 fits\n"
     ]
    },
    {
     "name": "stderr",
     "output_type": "stream",
     "text": [
      "[Parallel(n_jobs=-1)]: Using backend LokyBackend with 8 concurrent workers.\n",
      "[Parallel(n_jobs=-1)]: Done  34 tasks      | elapsed:   13.9s\n",
      "/Users/kristina/anaconda3/lib/python3.7/site-packages/joblib/externals/loky/process_executor.py:706: UserWarning: A worker stopped while some jobs were given to the executor. This can be caused by a too short worker timeout or by a memory leak.\n",
      "  \"timeout or by a memory leak.\", UserWarning\n",
      "[Parallel(n_jobs=-1)]: Done 184 tasks      | elapsed:  1.1min\n",
      "[Parallel(n_jobs=-1)]: Done 434 tasks      | elapsed:  2.5min\n",
      "[Parallel(n_jobs=-1)]: Done 784 tasks      | elapsed:  4.4min\n",
      "[Parallel(n_jobs=-1)]: Done 1234 tasks      | elapsed:  7.1min\n",
      "[Parallel(n_jobs=-1)]: Done 1728 out of 1728 | elapsed: 10.2min finished\n"
     ]
    },
    {
     "data": {
      "text/plain": [
       "GridSearchCV(cv=3, error_score='raise-deprecating',\n",
       "             estimator=Pipeline(memory=None,\n",
       "                                steps=[('tfidf',\n",
       "                                        TfidfVectorizer(analyzer='word',\n",
       "                                                        binary=False,\n",
       "                                                        decode_error='strict',\n",
       "                                                        dtype=<class 'numpy.float64'>,\n",
       "                                                        encoding='utf-8',\n",
       "                                                        input='content',\n",
       "                                                        lowercase=True,\n",
       "                                                        max_df=1.0,\n",
       "                                                        max_features=None,\n",
       "                                                        min_df=1,\n",
       "                                                        ngram_range=(1, 1),\n",
       "                                                        norm='l2',\n",
       "                                                        preprocessor=None,\n",
       "                                                        smooth_idf=True,\n",
       "                                                        stop_word...\n",
       "             iid='warn', n_jobs=-1,\n",
       "             param_grid={'dt__max_depth': [5, 6],\n",
       "                         'dt__min_samples_leaf': [3, 4],\n",
       "                         'dt__min_samples_split': [6, 7],\n",
       "                         'tfidf__max_df': [0.85, 0.95],\n",
       "                         'tfidf__max_features': [1000, 2000, 3000],\n",
       "                         'tfidf__min_df': [3, 4, 5],\n",
       "                         'tfidf__ngram_range': [(1, 1), (1, 2)],\n",
       "                         'tfidf__use_idf': [True, False]},\n",
       "             pre_dispatch='2*n_jobs', refit=True, return_train_score=False,\n",
       "             scoring=None, verbose=1)"
      ]
     },
     "execution_count": 54,
     "metadata": {},
     "output_type": "execute_result"
    }
   ],
   "source": [
    "tfidf_dt_gs.fit(X_train, y_train)"
   ]
  },
  {
   "cell_type": "code",
   "execution_count": 55,
   "metadata": {},
   "outputs": [
    {
     "data": {
      "text/plain": [
       "{'dt__max_depth': 5,\n",
       " 'dt__min_samples_leaf': 4,\n",
       " 'dt__min_samples_split': 7,\n",
       " 'tfidf__max_df': 0.85,\n",
       " 'tfidf__max_features': 3000,\n",
       " 'tfidf__min_df': 3,\n",
       " 'tfidf__ngram_range': (1, 1),\n",
       " 'tfidf__use_idf': True}"
      ]
     },
     "execution_count": 55,
     "metadata": {},
     "output_type": "execute_result"
    }
   ],
   "source": [
    "tfidf_dt_gs.best_params_"
   ]
  },
  {
   "cell_type": "code",
   "execution_count": 56,
   "metadata": {
    "scrolled": true
   },
   "outputs": [
    {
     "name": "stdout",
     "output_type": "stream",
     "text": [
      "TFIDF/DT Best Accuracy Training Set: 0.862824062421344\n",
      "TFIDF/DT Best Accuracy Test Set: 0.8271698113207547\n",
      "TFIDF/DT ROC AUC: 0.8071008417246148\n"
     ]
    }
   ],
   "source": [
    "# scoring\n",
    "\n",
    "make_scores(tfidf_dt_gs,'TFIDF/DT')"
   ]
  },
  {
   "cell_type": "markdown",
   "metadata": {},
   "source": [
    "---\n",
    "## 3.7. SVN"
   ]
  },
  {
   "cell_type": "code",
   "execution_count": 57,
   "metadata": {},
   "outputs": [],
   "source": [
    "# instantiate pipeline\n",
    "pipe_cvect_svc = Pipeline([('cvec', CountVectorizer(stop_words = ['sleep', 'bed', 'night'])),\n",
    "                      ('svc', SVC())])\n",
    "\n",
    "# pipline parameters \n",
    "\n",
    "pipe_cvect_svc_paras = {\n",
    "    'cvec__max_features': [3000,5000],\n",
    "    #'cvec__stop_words': [None, 'english'],\n",
    "    'cvec__ngram_range':[(1,1), (1,2)],\n",
    "    'cvec__min_df': [5,6,8],\n",
    "    'cvec__max_df': [0.75,0.8,0.85, 0.90],\n",
    "    'svc__kernel':['rbf', 'linear', 'poly'],\n",
    "    'svc__C': np.logspace(-1, 5, 20),\n",
    "'svc__gamma': np.logspace(-1, 1, 10)}\n"
   ]
  },
  {
   "cell_type": "code",
   "execution_count": 58,
   "metadata": {},
   "outputs": [],
   "source": [
    "pipe_cvect_svc_gs= RandomizedSearchCV(pipe_cvect_svc,\n",
    "                               pipe_cvect_svc_paras,\n",
    "                               verbose = 1,\n",
    "                               cv = 3,\n",
    "                               n_jobs = -1,\n",
    "                                      n_iter=20\n",
    "                              )"
   ]
  },
  {
   "cell_type": "code",
   "execution_count": 59,
   "metadata": {},
   "outputs": [
    {
     "name": "stdout",
     "output_type": "stream",
     "text": [
      "Fitting 3 folds for each of 20 candidates, totalling 60 fits\n"
     ]
    },
    {
     "name": "stderr",
     "output_type": "stream",
     "text": [
      "[Parallel(n_jobs=-1)]: Using backend LokyBackend with 8 concurrent workers.\n",
      "[Parallel(n_jobs=-1)]: Done  34 tasks      | elapsed:   42.8s\n",
      "[Parallel(n_jobs=-1)]: Done  60 out of  60 | elapsed:  1.2min finished\n"
     ]
    },
    {
     "data": {
      "text/plain": [
       "RandomizedSearchCV(cv=3, error_score='raise-deprecating',\n",
       "                   estimator=Pipeline(memory=None,\n",
       "                                      steps=[('cvec',\n",
       "                                              CountVectorizer(analyzer='word',\n",
       "                                                              binary=False,\n",
       "                                                              decode_error='strict',\n",
       "                                                              dtype=<class 'numpy.int64'>,\n",
       "                                                              encoding='utf-8',\n",
       "                                                              input='content',\n",
       "                                                              lowercase=True,\n",
       "                                                              max_df=1.0,\n",
       "                                                              max_features=None,\n",
       "                                                              min_df=1,\n",
       "                                                              ngram_range=(1,\n",
       "                                                                           1),\n",
       "                                                              preprocessor=None,\n",
       "                                                              stop_words=['sleep',\n",
       "                                                                          'bed',\n",
       "                                                                          'night...\n",
       "       6.15848211e+02, 1.27427499e+03, 2.63665090e+03, 5.45559478e+03,\n",
       "       1.12883789e+04, 2.33572147e+04, 4.83293024e+04, 1.00000000e+05]),\n",
       "                                        'svc__gamma': array([ 0.1       ,  0.16681005,  0.27825594,  0.46415888,  0.77426368,\n",
       "        1.29154967,  2.15443469,  3.59381366,  5.9948425 , 10.        ]),\n",
       "                                        'svc__kernel': ['rbf', 'linear',\n",
       "                                                        'poly']},\n",
       "                   pre_dispatch='2*n_jobs', random_state=None, refit=True,\n",
       "                   return_train_score=False, scoring=None, verbose=1)"
      ]
     },
     "execution_count": 59,
     "metadata": {},
     "output_type": "execute_result"
    }
   ],
   "source": [
    "pipe_cvect_svc_gs.fit(X_train, y_train)"
   ]
  },
  {
   "cell_type": "code",
   "execution_count": 60,
   "metadata": {},
   "outputs": [
    {
     "name": "stdout",
     "output_type": "stream",
     "text": [
      "CVect/SVN Best Accuracy Training Set: 0.9974830103196577\n",
      "CVect/SVN Best Accuracy Test Set: 0.8883018867924528\n",
      "CVect/SVN ROC AUC: 0.8787418506611527\n"
     ]
    }
   ],
   "source": [
    "# scoring\n",
    "\n",
    "make_scores(pipe_cvect_svc_gs,'CVect/SVN')"
   ]
  },
  {
   "cell_type": "markdown",
   "metadata": {},
   "source": [
    "---\n",
    "## 3.8. Result Overview"
   ]
  },
  {
   "cell_type": "markdown",
   "metadata": {},
   "source": [
    "### 3.8.1. Base score"
   ]
  },
  {
   "cell_type": "code",
   "execution_count": 61,
   "metadata": {
    "scrolled": true
   },
   "outputs": [
    {
     "data": {
      "text/plain": [
       "0    0.593208\n",
       "1    0.406792\n",
       "Name: class, dtype: float64"
      ]
     },
     "execution_count": 61,
     "metadata": {},
     "output_type": "execute_result"
    }
   ],
   "source": [
    "y_test.value_counts(normalize=True)"
   ]
  },
  {
   "cell_type": "markdown",
   "metadata": {},
   "source": [
    "The base score is around 60% accuracy.\n",
    "Meaning, that if a model wourd predict 0 every time, the accuracy would be around 60%."
   ]
  },
  {
   "cell_type": "markdown",
   "metadata": {},
   "source": [
    "### 3.8.2. Accuracy Scores"
   ]
  },
  {
   "cell_type": "code",
   "execution_count": 62,
   "metadata": {},
   "outputs": [],
   "source": [
    "accuracy_df = pd.DataFrame(score_dict, index=['train','test', 'ROC_AUC'])"
   ]
  },
  {
   "cell_type": "code",
   "execution_count": 63,
   "metadata": {},
   "outputs": [
    {
     "data": {
      "text/html": [
       "<div>\n",
       "<style scoped>\n",
       "    .dataframe tbody tr th:only-of-type {\n",
       "        vertical-align: middle;\n",
       "    }\n",
       "\n",
       "    .dataframe tbody tr th {\n",
       "        vertical-align: top;\n",
       "    }\n",
       "\n",
       "    .dataframe thead th {\n",
       "        text-align: right;\n",
       "    }\n",
       "</style>\n",
       "<table border=\"1\" class=\"dataframe\">\n",
       "  <thead>\n",
       "    <tr style=\"text-align: right;\">\n",
       "      <th></th>\n",
       "      <th>CVect/LogReg</th>\n",
       "      <th>TFIDF/LogReg</th>\n",
       "      <th>CVect/MNB</th>\n",
       "      <th>TFIDF/MNB</th>\n",
       "      <th>TFIDF/DT</th>\n",
       "      <th>CVect/SVN</th>\n",
       "    </tr>\n",
       "  </thead>\n",
       "  <tbody>\n",
       "    <tr>\n",
       "      <td>train</td>\n",
       "      <td>0.904858</td>\n",
       "      <td>0.822301</td>\n",
       "      <td>0.897307</td>\n",
       "      <td>0.911905</td>\n",
       "      <td>0.862824</td>\n",
       "      <td>0.997483</td>\n",
       "    </tr>\n",
       "    <tr>\n",
       "      <td>test</td>\n",
       "      <td>0.880755</td>\n",
       "      <td>0.815094</td>\n",
       "      <td>0.890566</td>\n",
       "      <td>0.901887</td>\n",
       "      <td>0.827170</td>\n",
       "      <td>0.888302</td>\n",
       "    </tr>\n",
       "    <tr>\n",
       "      <td>ROC_AUC</td>\n",
       "      <td>0.867133</td>\n",
       "      <td>0.786720</td>\n",
       "      <td>0.897849</td>\n",
       "      <td>0.905351</td>\n",
       "      <td>0.807101</td>\n",
       "      <td>0.878742</td>\n",
       "    </tr>\n",
       "  </tbody>\n",
       "</table>\n",
       "</div>"
      ],
      "text/plain": [
       "         CVect/LogReg  TFIDF/LogReg  CVect/MNB  TFIDF/MNB  TFIDF/DT  CVect/SVN\n",
       "train        0.904858      0.822301   0.897307   0.911905  0.862824   0.997483\n",
       "test         0.880755      0.815094   0.890566   0.901887  0.827170   0.888302\n",
       "ROC_AUC      0.867133      0.786720   0.897849   0.905351  0.807101   0.878742"
      ]
     },
     "execution_count": 63,
     "metadata": {},
     "output_type": "execute_result"
    }
   ],
   "source": [
    "accuracy_df"
   ]
  },
  {
   "cell_type": "markdown",
   "metadata": {},
   "source": [
    "### 3.8.3. Best Model"
   ]
  },
  {
   "cell_type": "code",
   "execution_count": 64,
   "metadata": {},
   "outputs": [
    {
     "data": {
      "text/html": [
       "<div>\n",
       "<style scoped>\n",
       "    .dataframe tbody tr th:only-of-type {\n",
       "        vertical-align: middle;\n",
       "    }\n",
       "\n",
       "    .dataframe tbody tr th {\n",
       "        vertical-align: top;\n",
       "    }\n",
       "\n",
       "    .dataframe thead th {\n",
       "        text-align: right;\n",
       "    }\n",
       "</style>\n",
       "<table border=\"1\" class=\"dataframe\">\n",
       "  <thead>\n",
       "    <tr style=\"text-align: right;\">\n",
       "      <th></th>\n",
       "      <th>CVect/MNB</th>\n",
       "      <th>TFIDF/MNB</th>\n",
       "    </tr>\n",
       "  </thead>\n",
       "  <tbody>\n",
       "    <tr>\n",
       "      <td>train</td>\n",
       "      <td>0.897307</td>\n",
       "      <td>0.911905</td>\n",
       "    </tr>\n",
       "    <tr>\n",
       "      <td>test</td>\n",
       "      <td>0.890566</td>\n",
       "      <td>0.901887</td>\n",
       "    </tr>\n",
       "    <tr>\n",
       "      <td>ROC_AUC</td>\n",
       "      <td>0.897849</td>\n",
       "      <td>0.905351</td>\n",
       "    </tr>\n",
       "  </tbody>\n",
       "</table>\n",
       "</div>"
      ],
      "text/plain": [
       "         CVect/MNB  TFIDF/MNB\n",
       "train     0.897307   0.911905\n",
       "test      0.890566   0.901887\n",
       "ROC_AUC   0.897849   0.905351"
      ]
     },
     "execution_count": 64,
     "metadata": {},
     "output_type": "execute_result"
    }
   ],
   "source": [
    "accuracy_df[['CVect/MNB','TFIDF/MNB']]"
   ]
  },
  {
   "cell_type": "markdown",
   "metadata": {},
   "source": [
    "#### TFIDF/MNB"
   ]
  },
  {
   "cell_type": "code",
   "execution_count": 65,
   "metadata": {},
   "outputs": [
    {
     "data": {
      "text/plain": [
       "{'mnb__alpha': 5,\n",
       " 'tfidf__max_df': 0.8,\n",
       " 'tfidf__max_features': 3000,\n",
       " 'tfidf__min_df': 3,\n",
       " 'tfidf__ngram_range': (1, 1)}"
      ]
     },
     "execution_count": 65,
     "metadata": {},
     "output_type": "execute_result"
    }
   ],
   "source": [
    "tfidf_mnb_gs.best_params_"
   ]
  },
  {
   "cell_type": "markdown",
   "metadata": {},
   "source": [
    "#### CVec/MNB"
   ]
  },
  {
   "cell_type": "code",
   "execution_count": 66,
   "metadata": {},
   "outputs": [
    {
     "data": {
      "text/plain": [
       "{'cvec__max_df': 0.8,\n",
       " 'cvec__max_features': 3000,\n",
       " 'cvec__min_df': 3,\n",
       " 'cvec__ngram_range': (1, 2),\n",
       " 'mnb__alpha': 1}"
      ]
     },
     "execution_count": 66,
     "metadata": {},
     "output_type": "execute_result"
    }
   ],
   "source": [
    "cvect_mnb_gs.best_params_"
   ]
  },
  {
   "cell_type": "markdown",
   "metadata": {},
   "source": [
    "### 3.8.4. Confusion Matrix best models"
   ]
  },
  {
   "cell_type": "markdown",
   "metadata": {},
   "source": [
    "Custom function to plot a confusion matrix."
   ]
  },
  {
   "cell_type": "code",
   "execution_count": 67,
   "metadata": {},
   "outputs": [],
   "source": [
    "def plot_confusion_matrix(y_pred_i,normalize=False, title='Confusion matrix'):\n",
    "    \n",
    "    cm = confusion_matrix(y_test, y_pred_i)\n",
    "    \n",
    "    print(cm)\n",
    "   \n",
    "    classes = ['not depressed', 'depressed']\n",
    "    \n",
    "    plt.imshow(cm, interpolation='nearest', cmap=plt.cm.Reds)\n",
    "    \n",
    "    plt.title(title, pad = 12.0, fontsize =12)\n",
    "    plt.ylabel('True', fontsize =12)\n",
    "    plt.xlabel('Predicted', fontsize =12)\n",
    "    tick_marks = np.arange(len(classes))\n",
    "    plt.xticks(tick_marks, classes, rotation=45)\n",
    "    plt.yticks(tick_marks, classes)\n",
    "\n",
    "    middle = cm.max() / 2\n",
    "    for i, j in itertools.product(range(cm.shape[0]), range(cm.shape[1])):\n",
    "        plt.text(j, i, (cm[i, j]),color=\"white\" if cm[i, j] > middle else \"black\")\n",
    "    \n",
    "    tn, fp, fn, tp = cm.ravel()\n",
    "    \n",
    "    sensitivity = \"{:10.4f}\".format(tp/(tp + fn))\n",
    "    specificity = \"{:10.4f}\".format(tn/(tn + fp))\n",
    "\n",
    "    plt.text(2, 0.5,s=f'Sensitivity: {sensitivity}', bbox=dict(facecolor='white', alpha=0.5), fontsize =12)\n",
    "    plt.text(2, 1,s=f'Specificity: {specificity}', bbox=dict(facecolor='white', alpha=0.5), fontsize =12)\n",
    "   \n"
   ]
  },
  {
   "cell_type": "markdown",
   "metadata": {},
   "source": [
    "#### TFIDF/MNB"
   ]
  },
  {
   "cell_type": "code",
   "execution_count": 68,
   "metadata": {},
   "outputs": [],
   "source": [
    "y_pred = tfidf_mnb_gs.predict(X_test)"
   ]
  },
  {
   "cell_type": "code",
   "execution_count": 69,
   "metadata": {},
   "outputs": [
    {
     "name": "stdout",
     "output_type": "stream",
     "text": [
      "[[697  89]\n",
      " [ 41 498]]\n"
     ]
    },
    {
     "data": {
      "image/png": "[encoded data removed]",
      "text/plain": [
       "<Figure size 432x288 with 1 Axes>"
      ]
     },
     "metadata": {
      "needs_background": "light"
     },
     "output_type": "display_data"
    }
   ],
   "source": [
    "plot_confusion_matrix(y_pred_i\n",
    "                      =y_pred, title='TFIDF/MNB Confusion Matrix')"
   ]
  },
  {
   "cell_type": "markdown",
   "metadata": {},
   "source": [
    "#### CVect/MNB"
   ]
  },
  {
   "cell_type": "code",
   "execution_count": 70,
   "metadata": {},
   "outputs": [],
   "source": [
    "y_pred_2 = cvect_mnb_gs.predict(X_test)"
   ]
  },
  {
   "cell_type": "code",
   "execution_count": 71,
   "metadata": {},
   "outputs": [
    {
     "name": "stdout",
     "output_type": "stream",
     "text": [
      "[[675 111]\n",
      " [ 34 505]]\n"
     ]
    },
    {
     "data": {
      "image/png": "[encoded data removed]",
      "text/plain": [
       "<Figure size 432x288 with 1 Axes>"
      ]
     },
     "metadata": {
      "needs_background": "light"
     },
     "output_type": "display_data"
    }
   ],
   "source": [
    "plot_confusion_matrix(y_pred_i\n",
    "                      =y_pred_2, title='CVect/MNB Confusion Matrix')"
   ]
  },
  {
   "cell_type": "markdown",
   "metadata": {},
   "source": [
    "### 3.8.5. Choosing model"
   ]
  },
  {
   "cell_type": "markdown",
   "metadata": {},
   "source": [
    "Even though the performance of TFIDF/MNB is better than CVec/MNB, I am going to use CVec/MNB for prediction.\n",
    "\n",
    "I choose CVect over TFIDF because I want my model to be interpretable. With CVect, the number of times a word occurs in a document is counted and used for prediction. It is easy to look at the word frequency of the test data. Also, TFIDF weights words, giving words that occur several times in one document but sparsely in the other documents more weight. Since the documents I want to predict are fairly different than the documents I trained the model with (different subreddits), TFIDF is not best approach for what I am doing.\n"
   ]
  },
  {
   "cell_type": "markdown",
   "metadata": {},
   "source": [
    "### 3.8.6. Safe best Model and Vectorizer parameters"
   ]
  },
  {
   "cell_type": "code",
   "execution_count": 72,
   "metadata": {},
   "outputs": [
    {
     "data": {
      "text/plain": [
       "{'cvec__max_df': 0.8,\n",
       " 'cvec__max_features': 3000,\n",
       " 'cvec__min_df': 3,\n",
       " 'cvec__ngram_range': (1, 2),\n",
       " 'mnb__alpha': 1}"
      ]
     },
     "execution_count": 72,
     "metadata": {},
     "output_type": "execute_result"
    }
   ],
   "source": [
    "cvect_mnb_gs.best_params_"
   ]
  },
  {
   "cell_type": "code",
   "execution_count": 73,
   "metadata": {},
   "outputs": [
    {
     "name": "stdout",
     "output_type": "stream",
     "text": [
      "Stored 'used_cvect' (CountVectorizer)\n"
     ]
    }
   ],
   "source": [
    "used_cvect = CountVectorizer(max_df =0.8,\n",
    "              max_features = 3000,\n",
    "              min_df = 3,\n",
    "              ngram_range = (1, 2),\n",
    "              stop_words = ['sleep', 'bed', 'night'])\n",
    "%store used_cvect"
   ]
  },
  {
   "cell_type": "code",
   "execution_count": 74,
   "metadata": {},
   "outputs": [
    {
     "name": "stdout",
     "output_type": "stream",
     "text": [
      "Stored 'fitted_cvect' (CountVectorizer)\n"
     ]
    }
   ],
   "source": [
    "fitted_cvect = used_cvect.fit(X_train)\n",
    "%store fitted_cvect"
   ]
  },
  {
   "cell_type": "code",
   "execution_count": 75,
   "metadata": {},
   "outputs": [
    {
     "name": "stdout",
     "output_type": "stream",
     "text": [
      "Stored 'cvect_mnb_gs' (GridSearchCV)\n"
     ]
    }
   ],
   "source": [
    "%store cvect_mnb_gs"
   ]
  }
 ],
 "metadata": {
  "kernelspec": {
   "display_name": "Python 3",
   "language": "python",
   "name": "python3"
  },
  "language_info": {
   "codemirror_mode": {
    "name": "ipython",
    "version": 3
   },
   "file_extension": ".py",
   "mimetype": "text/x-python",
   "name": "python",
   "nbconvert_exporter": "python",
   "pygments_lexer": "ipython3",
   "version": "3.7.3"
  }
 },
 "nbformat": 4,
 "nbformat_minor": 2
}
