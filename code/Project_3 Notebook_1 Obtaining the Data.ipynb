{
 "cells": [
  {
   "cell_type": "markdown",
   "metadata": {},
   "source": [
    "# Project 3 -  Natural Language Processing on Parenting Related Reddit\n",
    "## Notebook 1/4: Obtaining the Data \n",
    "\n",
    "#### Kristina Joos\n",
    "\n",
    "Notebook 1: Obtaining Data.  \n",
    "Notebook 2: Cleaning and Modifying Data.  \n",
    "Notebook 3: Modeling.  \n",
    "Notebook 4: Predicting.   \n",
    "\n",
    "---\n",
    "I am using PRAW API to download posts from the following subreddits:\n",
    "\n",
    "__depression:__   \n",
    "postpartumdepression    178\n",
    "depression_help         999\n",
    "depression              978  \n",
    "\n",
    "__control:__  \n",
    "AskHR              997\n",
    "HomeImprovement    993\n",
    "Advice             950\n",
    "organizing         203\n",
    "\n",
    "__experiment:__  \n",
    "sleeptrain          1000  \n",
    "AttachmentParenting  905\n",
    "parenting            903\n",
    "DIY                  540"
   ]
  },
  {
   "cell_type": "markdown",
   "metadata": {},
   "source": [
    "---\n",
    "# 1. Obtaining the Data "
   ]
  },
  {
   "cell_type": "markdown",
   "metadata": {},
   "source": [
    "## 1.1. Importing"
   ]
  },
  {
   "cell_type": "code",
   "execution_count": 17,
   "metadata": {},
   "outputs": [
    {
     "name": "stderr",
     "output_type": "stream",
     "text": [
      "/Users/kristina/anaconda3/lib/python3.7/importlib/_bootstrap.py:219: RuntimeWarning: numpy.ufunc size changed, may indicate binary incompatibility. Expected 192 from C header, got 216 from PyObject\n",
      "  return f(*args, **kwds)\n",
      "/Users/kristina/anaconda3/lib/python3.7/importlib/_bootstrap.py:219: RuntimeWarning: numpy.ufunc size changed, may indicate binary incompatibility. Expected 192 from C header, got 216 from PyObject\n",
      "  return f(*args, **kwds)\n"
     ]
    }
   ],
   "source": [
    "import requests\n",
    "import pandas as pd\n",
    "from bs4 import BeautifulSoup\n",
    "from datetime import datetime\n",
    "import time\n",
    "         "
   ]
  },
  {
   "cell_type": "code",
   "execution_count": 31,
   "metadata": {},
   "outputs": [
    {
     "data": {
      "text/plain": [
       "{'access_token': '353077000364-tUlIuzZ60pAo_Q7BwruOZ0G3Ywo',\n",
       " 'token_type': 'bearer',\n",
       " 'expires_in': 3600,\n",
       " 'scope': '*'}"
      ]
     },
     "execution_count": 31,
     "metadata": {},
     "output_type": "execute_result"
    }
   ],
   "source": [
    "import requests\n",
    "import requests.auth\n",
    "client_auth = requests.auth.HTTPBasicAuth('HEREGOESYOURDATA', 'HEREGOESYOURDATA')\n",
    "post_data = {\"grant_type\": \"password\", \"username\": \"HEREGOESYOURDATA\", \"password\": \"HEREGOESYOURDATA\"}\n",
    "headers = {\"User-Agent\": \"\"}\n",
    "response = requests.post(\"https://www.reddit.com/api/v1/access_token\", auth=client_auth, data=post_data, headers=headers)\n",
    "response.json()"
   ]
  },
  {
   "cell_type": "code",
   "execution_count": 32,
   "metadata": {},
   "outputs": [
    {
     "data": {
      "text/plain": [
       "{'is_employee': False,\n",
       " 'seen_layout_switch': False,\n",
       " 'has_visited_new_profile': False,\n",
       " 'pref_no_profanity': True,\n",
       " 'has_external_account': False,\n",
       " 'pref_geopopular': '',\n",
       " 'seen_redesign_modal': False,\n",
       " 'pref_show_trending': True,\n",
       " 'subreddit': {'default_set': True,\n",
       "  'user_is_contributor': False,\n",
       "  'banner_img': '',\n",
       "  'restrict_posting': True,\n",
       "  'user_is_banned': False,\n",
       "  'free_form_reports': True,\n",
       "  'community_icon': '',\n",
       "  'show_media': True,\n",
       "  'icon_color': '#94E044',\n",
       "  'user_is_muted': False,\n",
       "  'display_name': 'u_krbojo',\n",
       "  'header_img': None,\n",
       "  'title': '',\n",
       "  'coins': 0,\n",
       "  'over_18': False,\n",
       "  'icon_size': [256, 256],\n",
       "  'primary_color': '',\n",
       "  'icon_img': 'https://www.redditstatic.com/avatars/avatar_default_05_94E044.png',\n",
       "  'description': '',\n",
       "  'submit_link_label': '',\n",
       "  'header_size': None,\n",
       "  'restrict_commenting': False,\n",
       "  'subscribers': 0,\n",
       "  'submit_text_label': '',\n",
       "  'is_default_icon': True,\n",
       "  'link_flair_position': '',\n",
       "  'display_name_prefixed': 'u/krbojo',\n",
       "  'key_color': '',\n",
       "  'name': 't5_26ak9g',\n",
       "  'is_default_banner': True,\n",
       "  'url': '/user/krbojo/',\n",
       "  'banner_size': None,\n",
       "  'user_is_moderator': True,\n",
       "  'public_description': '',\n",
       "  'link_flair_enabled': False,\n",
       "  'disable_contributor_requests': False,\n",
       "  'subreddit_type': 'user',\n",
       "  'user_is_subscriber': False},\n",
       " 'is_sponsor': False,\n",
       " 'gold_expiration': None,\n",
       " 'has_gold_subscription': False,\n",
       " 'num_friends': 0,\n",
       " 'features': {'chat_subreddit': True,\n",
       "  'show_amp_link': True,\n",
       "  'read_from_pref_service': True,\n",
       "  'chat_rollout': True,\n",
       "  'chat_reddar_reports': True,\n",
       "  'default_srs_holdout': {'owner': 'relevance',\n",
       "   'variant': 'tutorial',\n",
       "   'experiment_id': 171},\n",
       "  'twitter_embed': True,\n",
       "  'is_email_permission_required': False,\n",
       "  'richtext_previews': True,\n",
       "  'chat_subreddit_notification_ftux': True,\n",
       "  'mod_awards': True,\n",
       "  'mweb_xpromo_revamp_v3': {'owner': 'growth',\n",
       "   'variant': 'treatment_3',\n",
       "   'experiment_id': 480},\n",
       "  'mweb_xpromo_revamp_v2': {'owner': 'growth',\n",
       "   'variant': 'treatment_5',\n",
       "   'experiment_id': 457},\n",
       "  'mweb_xpromo_modal_listing_click_daily_dismissible_ios': True,\n",
       "  'community_awards': True,\n",
       "  'modlog_copyright_removal': True,\n",
       "  'dual_write_user_prefs': True,\n",
       "  'do_not_track': True,\n",
       "  'chat_user_settings': True,\n",
       "  'mweb_xpromo_interstitial_comments_ios': True,\n",
       "  'mweb_link_tab': {'owner': 'growth',\n",
       "   'variant': 'treatment_1',\n",
       "   'experiment_id': 404},\n",
       "  'premium_subscriptions_table': True,\n",
       "  'mweb_xpromo_interstitial_comments_android': True,\n",
       "  'steward_ui': True,\n",
       "  'mweb_xpromo_modal_listing_click_daily_dismissible_android': True,\n",
       "  'mweb_sharing_web_share_api': {'owner': 'growth',\n",
       "   'variant': 'control_1',\n",
       "   'experiment_id': 314},\n",
       "  'chat_group_rollout': True,\n",
       "  'custom_feeds': True,\n",
       "  'spez_modal': True,\n",
       "  'mweb_sharing_clipboard': {'owner': 'growth',\n",
       "   'variant': 'treatment_1',\n",
       "   'experiment_id': 315},\n",
       "  'layers_creation': True},\n",
       " 'has_android_subscription': False,\n",
       " 'verified': True,\n",
       " 'new_modmail_exists': None,\n",
       " 'pref_autoplay': True,\n",
       " 'coins': 0,\n",
       " 'has_paypal_subscription': False,\n",
       " 'has_subscribed_to_premium': False,\n",
       " 'id': '4i78xh2k',\n",
       " 'has_stripe_subscription': False,\n",
       " 'seen_premium_adblock_modal': False,\n",
       " 'can_create_subreddit': False,\n",
       " 'over_18': False,\n",
       " 'is_gold': False,\n",
       " 'is_mod': False,\n",
       " 'suspension_expiration_utc': None,\n",
       " 'has_verified_email': False,\n",
       " 'is_suspended': False,\n",
       " 'pref_video_autoplay': True,\n",
       " 'in_redesign_beta': True,\n",
       " 'icon_img': 'https://www.redditstatic.com/avatars/avatar_default_05_94E044.png',\n",
       " 'has_mod_mail': False,\n",
       " 'pref_nightmode': False,\n",
       " 'oauth_client_id': '2Uq5o9mDjpP5TQ',\n",
       " 'hide_from_robots': False,\n",
       " 'link_karma': 1,\n",
       " 'force_password_reset': False,\n",
       " 'inbox_count': 1,\n",
       " 'pref_top_karma_subreddits': True,\n",
       " 'has_mail': True,\n",
       " 'pref_show_snoovatar': False,\n",
       " 'name': 'krbojo',\n",
       " 'pref_clickgadget': 5,\n",
       " 'created': 1570675084.0,\n",
       " 'gold_creddits': 0,\n",
       " 'created_utc': 1570646284.0,\n",
       " 'has_ios_subscription': False,\n",
       " 'pref_show_twitter': False,\n",
       " 'in_beta': False,\n",
       " 'comment_karma': 0,\n",
       " 'has_subscribed': True,\n",
       " 'seen_subreddit_chat_ftux': False}"
      ]
     },
     "execution_count": 32,
     "metadata": {},
     "output_type": "execute_result"
    }
   ],
   "source": [
    "headers = {\"Authorization\": \"bearer HEREGOESYOURDATA\", \"User-Agent\": \"ChangeMeClient/0.1 by krbojo\"}\n",
    "response = requests.get(\"https://oauth.reddit.com/api/v1/me\", headers=headers)\n",
    "response.json()"
   ]
  },
  {
   "cell_type": "code",
   "execution_count": 30,
   "metadata": {},
   "outputs": [
    {
     "name": "stdout",
     "output_type": "stream",
     "text": [
      "Collecting praw\n",
      "\u001b[?25l  Downloading https://files.pythonhosted.org/packages/f6/df/b42c0a3b86a43a62a46e5b2f07930230ac7719624800a2052218993fb767/praw-6.4.0-py2.py3-none-any.whl (126kB)\n",
      "\u001b[K     |████████████████████████████████| 133kB 1.2MB/s eta 0:00:01\n",
      "\u001b[?25hCollecting prawcore<2.0,>=1.0.1 (from praw)\n",
      "  Downloading https://files.pythonhosted.org/packages/76/b5/ce6282dea45cba6f08a30e25d18e0f3d33277e2c9fcbda75644b8dc0089b/prawcore-1.0.1-py2.py3-none-any.whl\n",
      "Collecting update-checker>=0.16 (from praw)\n",
      "  Downloading https://files.pythonhosted.org/packages/17/c9/ab11855af164d03be0ff4fddd4c46a5bd44799a9ecc1770e01a669c21168/update_checker-0.16-py2.py3-none-any.whl\n",
      "Collecting websocket-client>=0.54.0 (from praw)\n",
      "\u001b[?25l  Downloading https://files.pythonhosted.org/packages/29/19/44753eab1fdb50770ac69605527e8859468f3c0fd7dc5a76dd9c4dbd7906/websocket_client-0.56.0-py2.py3-none-any.whl (200kB)\n",
      "\u001b[K     |████████████████████████████████| 204kB 3.1MB/s eta 0:00:01\n",
      "\u001b[?25hRequirement already satisfied: requests<3.0,>=2.6.0 in /Users/kristina/anaconda3/lib/python3.7/site-packages (from prawcore<2.0,>=1.0.1->praw) (2.22.0)\n",
      "Requirement already satisfied: six in /Users/kristina/anaconda3/lib/python3.7/site-packages (from websocket-client>=0.54.0->praw) (1.12.0)\n",
      "Requirement already satisfied: urllib3!=1.25.0,!=1.25.1,<1.26,>=1.21.1 in /Users/kristina/anaconda3/lib/python3.7/site-packages (from requests<3.0,>=2.6.0->prawcore<2.0,>=1.0.1->praw) (1.24.2)\n",
      "Requirement already satisfied: idna<2.9,>=2.5 in /Users/kristina/anaconda3/lib/python3.7/site-packages (from requests<3.0,>=2.6.0->prawcore<2.0,>=1.0.1->praw) (2.8)\n",
      "Requirement already satisfied: chardet<3.1.0,>=3.0.2 in /Users/kristina/anaconda3/lib/python3.7/site-packages (from requests<3.0,>=2.6.0->prawcore<2.0,>=1.0.1->praw) (3.0.4)\n",
      "Requirement already satisfied: certifi>=2017.4.17 in /Users/kristina/anaconda3/lib/python3.7/site-packages (from requests<3.0,>=2.6.0->prawcore<2.0,>=1.0.1->praw) (2019.6.16)\n",
      "Installing collected packages: prawcore, update-checker, websocket-client, praw\n",
      "Successfully installed praw-6.4.0 prawcore-1.0.1 update-checker-0.16 websocket-client-0.56.0\n",
      "Note: you may need to restart the kernel to use updated packages.\n"
     ]
    }
   ],
   "source": [
    "pip install praw"
   ]
  },
  {
   "cell_type": "code",
   "execution_count": 4,
   "metadata": {},
   "outputs": [],
   "source": [
    "import praw\n",
    "\n",
    "reddit = praw.Reddit(client_id='HEREGOESYOURDATA',\n",
    "                     client_secret='HEREGOESYOURDATA',\n",
    "                     user_agent='ChangeMeClient/0.1 by krbojo')"
   ]
  },
  {
   "cell_type": "code",
   "execution_count": 5,
   "metadata": {},
   "outputs": [
    {
     "name": "stdout",
     "output_type": "stream",
     "text": [
      "True\n"
     ]
    }
   ],
   "source": [
    "print(reddit.read_only)"
   ]
  },
  {
   "cell_type": "markdown",
   "metadata": {},
   "source": [
    "## 1.2. Depression Data"
   ]
  },
  {
   "cell_type": "markdown",
   "metadata": {},
   "source": [
    "__Subreddits:__  \n",
    "    -postpartumdepression 1000  \n",
    "    -depression 1000  \n",
    "    -depression_help 1000 "
   ]
  },
  {
   "cell_type": "markdown",
   "metadata": {},
   "source": [
    "__Create empty dictionary:__"
   ]
  },
  {
   "cell_type": "code",
   "execution_count": 30,
   "metadata": {},
   "outputs": [],
   "source": [
    "depression_dict =        { \"title\":[],\n",
    "                \"subreddit\":[],\n",
    "                \"score\":[], \n",
    "                \"id\":[], \n",
    "                \"url\":[], \n",
    "                \"comms_num\": [], \n",
    "                \"created\": [], \n",
    "                \"body\":[]}"
   ]
  },
  {
   "cell_type": "markdown",
   "metadata": {},
   "source": [
    "__postpartumdepression:__"
   ]
  },
  {
   "cell_type": "code",
   "execution_count": 31,
   "metadata": {},
   "outputs": [],
   "source": [
    "post_partum_depression = reddit.subreddit('postpartumdepression')\n",
    "post_partum_depression_subreddit = post_partum_depression.new(limit=1000)"
   ]
  },
  {
   "cell_type": "code",
   "execution_count": 32,
   "metadata": {},
   "outputs": [],
   "source": [
    "for submission in post_partum_depression_subreddit:\n",
    "    depression_dict[\"title\"].append(submission.title)\n",
    "    depression_dict['subreddit'].append(submission.subreddit)\n",
    "    depression_dict[\"score\"].append(submission.score)\n",
    "    depression_dict[\"id\"].append(submission.id)\n",
    "    depression_dict[\"url\"].append(submission.url)\n",
    "    depression_dict[\"comms_num\"].append(submission.num_comments)\n",
    "    depression_dict[\"created\"].append(submission.created)\n",
    "    depression_dict[\"body\"].append(submission.selftext)"
   ]
  },
  {
   "cell_type": "markdown",
   "metadata": {},
   "source": [
    "__depression:__"
   ]
  },
  {
   "cell_type": "code",
   "execution_count": 33,
   "metadata": {},
   "outputs": [],
   "source": [
    "depression = reddit.subreddit('depression')\n",
    "depression_subreddit = depression.hot(limit=1000)"
   ]
  },
  {
   "cell_type": "code",
   "execution_count": 34,
   "metadata": {},
   "outputs": [],
   "source": [
    "for submission in depression_subreddit:\n",
    "    depression_dict[\"title\"].append(submission.title)\n",
    "    depression_dict['subreddit'].append(submission.subreddit)\n",
    "    depression_dict[\"score\"].append(submission.score)\n",
    "    depression_dict[\"id\"].append(submission.id)\n",
    "    depression_dict[\"url\"].append(submission.url)\n",
    "    depression_dict[\"comms_num\"].append(submission.num_comments)\n",
    "    depression_dict[\"created\"].append(submission.created)\n",
    "    depression_dict[\"body\"].append(submission.selftext)"
   ]
  },
  {
   "cell_type": "markdown",
   "metadata": {},
   "source": [
    "__depression_help:__"
   ]
  },
  {
   "cell_type": "code",
   "execution_count": 35,
   "metadata": {},
   "outputs": [],
   "source": [
    "depression_help = reddit.subreddit('depression_help')\n",
    "depression_help_subreddit = depression_help.hot(limit=1000)"
   ]
  },
  {
   "cell_type": "code",
   "execution_count": 36,
   "metadata": {},
   "outputs": [],
   "source": [
    "for submission in depression_help_subreddit:\n",
    "    depression_dict[\"title\"].append(submission.title)\n",
    "    depression_dict['subreddit'].append(submission.subreddit)\n",
    "    depression_dict[\"score\"].append(submission.score)\n",
    "    depression_dict[\"id\"].append(submission.id)\n",
    "    depression_dict[\"url\"].append(submission.url)\n",
    "    depression_dict[\"comms_num\"].append(submission.num_comments)\n",
    "    depression_dict[\"created\"].append(submission.created)\n",
    "    depression_dict[\"body\"].append(submission.selftext)"
   ]
  },
  {
   "cell_type": "markdown",
   "metadata": {},
   "source": [
    "__Create and Save Data Frame:__"
   ]
  },
  {
   "cell_type": "code",
   "execution_count": 37,
   "metadata": {},
   "outputs": [],
   "source": [
    "depression_df = pd.DataFrame(depression_dict)"
   ]
  },
  {
   "cell_type": "code",
   "execution_count": 38,
   "metadata": {},
   "outputs": [
    {
     "data": {
      "text/plain": [
       "(2155, 8)"
      ]
     },
     "execution_count": 38,
     "metadata": {},
     "output_type": "execute_result"
    }
   ],
   "source": [
    "depression_df.shape"
   ]
  },
  {
   "cell_type": "code",
   "execution_count": 39,
   "metadata": {
    "scrolled": true
   },
   "outputs": [
    {
     "data": {
      "text/html": [
       "<div>\n",
       "<style scoped>\n",
       "    .dataframe tbody tr th:only-of-type {\n",
       "        vertical-align: middle;\n",
       "    }\n",
       "\n",
       "    .dataframe tbody tr th {\n",
       "        vertical-align: top;\n",
       "    }\n",
       "\n",
       "    .dataframe thead th {\n",
       "        text-align: right;\n",
       "    }\n",
       "</style>\n",
       "<table border=\"1\" class=\"dataframe\">\n",
       "  <thead>\n",
       "    <tr style=\"text-align: right;\">\n",
       "      <th></th>\n",
       "      <th>title</th>\n",
       "      <th>subreddit</th>\n",
       "      <th>score</th>\n",
       "      <th>id</th>\n",
       "      <th>url</th>\n",
       "      <th>comms_num</th>\n",
       "      <th>created</th>\n",
       "      <th>body</th>\n",
       "    </tr>\n",
       "  </thead>\n",
       "  <tbody>\n",
       "    <tr>\n",
       "      <td>0</td>\n",
       "      <td>I don't want medication</td>\n",
       "      <td>postpartumdepression</td>\n",
       "      <td>4</td>\n",
       "      <td>dhuags</td>\n",
       "      <td>https://www.reddit.com/r/postpartumdepression/...</td>\n",
       "      <td>15</td>\n",
       "      <td>1.571105e+09</td>\n",
       "      <td>This is my first ever post on Reddit. I never ...</td>\n",
       "    </tr>\n",
       "    <tr>\n",
       "      <td>1</td>\n",
       "      <td>How I feel</td>\n",
       "      <td>postpartumdepression</td>\n",
       "      <td>2</td>\n",
       "      <td>dhofqa</td>\n",
       "      <td>https://www.reddit.com/r/postpartumdepression/...</td>\n",
       "      <td>2</td>\n",
       "      <td>1.571076e+09</td>\n",
       "      <td>I'm 5 weeks postpartum to my 2nd child. My fir...</td>\n",
       "    </tr>\n",
       "    <tr>\n",
       "      <td>2</td>\n",
       "      <td>What can I do?</td>\n",
       "      <td>postpartumdepression</td>\n",
       "      <td>2</td>\n",
       "      <td>dgkzes</td>\n",
       "      <td>https://www.reddit.com/r/postpartumdepression/...</td>\n",
       "      <td>1</td>\n",
       "      <td>1.570855e+09</td>\n",
       "      <td>\\nI'm 11months post partum and in an ldr marri...</td>\n",
       "    </tr>\n",
       "    <tr>\n",
       "      <td>3</td>\n",
       "      <td>I need advice regarding my wife.</td>\n",
       "      <td>postpartumdepression</td>\n",
       "      <td>3</td>\n",
       "      <td>deym9h</td>\n",
       "      <td>https://www.reddit.com/r/postpartumdepression/...</td>\n",
       "      <td>8</td>\n",
       "      <td>1.570563e+09</td>\n",
       "      <td>My wife got hit with postpartum depression rea...</td>\n",
       "    </tr>\n",
       "    <tr>\n",
       "      <td>4</td>\n",
       "      <td>I SURVIVED!</td>\n",
       "      <td>postpartumdepression</td>\n",
       "      <td>6</td>\n",
       "      <td>de21tw</td>\n",
       "      <td>https://www.reddit.com/r/postpartumdepression/...</td>\n",
       "      <td>1</td>\n",
       "      <td>1.570390e+09</td>\n",
       "      <td>It’s not only possible but it’s possible to be...</td>\n",
       "    </tr>\n",
       "  </tbody>\n",
       "</table>\n",
       "</div>"
      ],
      "text/plain": [
       "                              title             subreddit  score      id  \\\n",
       "0           I don't want medication  postpartumdepression      4  dhuags   \n",
       "1                        How I feel  postpartumdepression      2  dhofqa   \n",
       "2                    What can I do?  postpartumdepression      2  dgkzes   \n",
       "3  I need advice regarding my wife.  postpartumdepression      3  deym9h   \n",
       "4                       I SURVIVED!  postpartumdepression      6  de21tw   \n",
       "\n",
       "                                                 url  comms_num       created  \\\n",
       "0  https://www.reddit.com/r/postpartumdepression/...         15  1.571105e+09   \n",
       "1  https://www.reddit.com/r/postpartumdepression/...          2  1.571076e+09   \n",
       "2  https://www.reddit.com/r/postpartumdepression/...          1  1.570855e+09   \n",
       "3  https://www.reddit.com/r/postpartumdepression/...          8  1.570563e+09   \n",
       "4  https://www.reddit.com/r/postpartumdepression/...          1  1.570390e+09   \n",
       "\n",
       "                                                body  \n",
       "0  This is my first ever post on Reddit. I never ...  \n",
       "1  I'm 5 weeks postpartum to my 2nd child. My fir...  \n",
       "2  \\nI'm 11months post partum and in an ldr marri...  \n",
       "3  My wife got hit with postpartum depression rea...  \n",
       "4  It’s not only possible but it’s possible to be...  "
      ]
     },
     "execution_count": 39,
     "metadata": {},
     "output_type": "execute_result"
    }
   ],
   "source": [
    "depression_df.head()"
   ]
  },
  {
   "cell_type": "code",
   "execution_count": 40,
   "metadata": {},
   "outputs": [],
   "source": [
    "depression_df.to_csv(r\"../data/depression.csv\", index=False)"
   ]
  },
  {
   "cell_type": "markdown",
   "metadata": {},
   "source": [
    "## 1.3. Controll Data:"
   ]
  },
  {
   "cell_type": "markdown",
   "metadata": {},
   "source": [
    "__Subreddits:__\n",
    "    - Organizing 1000  \n",
    "    - Advice 1000 \n",
    "    - AskHR 1000\n"
   ]
  },
  {
   "cell_type": "markdown",
   "metadata": {},
   "source": [
    "__Create empty dictionary:__"
   ]
  },
  {
   "cell_type": "code",
   "execution_count": 7,
   "metadata": {},
   "outputs": [],
   "source": [
    "control_dict =        { \"title\":[],\n",
    "                \"subreddit\":[],\n",
    "                \"score\":[], \n",
    "                \"id\":[], \n",
    "                \"url\":[], \n",
    "                \"comms_num\": [], \n",
    "                \"created\": [], \n",
    "                \"body\":[]}"
   ]
  },
  {
   "cell_type": "markdown",
   "metadata": {},
   "source": [
    "__organizing:__"
   ]
  },
  {
   "cell_type": "code",
   "execution_count": 8,
   "metadata": {},
   "outputs": [],
   "source": [
    "organizing = reddit.subreddit('organizing')\n",
    "organizing_subreddit = organizing.hot(limit=1000)"
   ]
  },
  {
   "cell_type": "code",
   "execution_count": 10,
   "metadata": {},
   "outputs": [],
   "source": [
    "for submission in organizing_subreddit:\n",
    "    control_dict[\"title\"].append(submission.title)\n",
    "    control_dict['subreddit'].append(submission.subreddit)\n",
    "    control_dict[\"score\"].append(submission.score)\n",
    "    control_dict[\"id\"].append(submission.id)\n",
    "    control_dict[\"url\"].append(submission.url)\n",
    "    control_dict[\"comms_num\"].append(submission.num_comments)\n",
    "    control_dict[\"created\"].append(submission.created)\n",
    "    control_dict[\"body\"].append(submission.selftext)"
   ]
  },
  {
   "cell_type": "markdown",
   "metadata": {},
   "source": [
    "__HomeImprovement:__"
   ]
  },
  {
   "cell_type": "code",
   "execution_count": 22,
   "metadata": {},
   "outputs": [],
   "source": [
    "homeimprovement = reddit.subreddit('HomeImprovement')\n",
    "homeimprovement_subreddit = homeimprovement.hot(limit=1000)"
   ]
  },
  {
   "cell_type": "code",
   "execution_count": 23,
   "metadata": {},
   "outputs": [],
   "source": [
    "for submission in homeimprovement_subreddit:\n",
    "    control_dict[\"title\"].append(submission.title)\n",
    "    control_dict['subreddit'].append(submission.subreddit)\n",
    "    control_dict[\"score\"].append(submission.score)\n",
    "    control_dict[\"id\"].append(submission.id)\n",
    "    control_dict[\"url\"].append(submission.url)\n",
    "    control_dict[\"comms_num\"].append(submission.num_comments)\n",
    "    control_dict[\"created\"].append(submission.created)\n",
    "    control_dict[\"body\"].append(submission.selftext)"
   ]
  },
  {
   "cell_type": "markdown",
   "metadata": {},
   "source": [
    "__Advice:__"
   ]
  },
  {
   "cell_type": "code",
   "execution_count": 11,
   "metadata": {},
   "outputs": [],
   "source": [
    "advice = reddit.subreddit('Advice')\n",
    "advice_subreddit = advice.hot(limit=1000)"
   ]
  },
  {
   "cell_type": "code",
   "execution_count": 13,
   "metadata": {},
   "outputs": [],
   "source": [
    "for submission in advice_subreddit:\n",
    "    control_dict[\"title\"].append(submission.title)\n",
    "    control_dict['subreddit'].append(submission.subreddit)\n",
    "    control_dict[\"score\"].append(submission.score)\n",
    "    control_dict[\"id\"].append(submission.id)\n",
    "    control_dict[\"url\"].append(submission.url)\n",
    "    control_dict[\"comms_num\"].append(submission.num_comments)\n",
    "    control_dict[\"created\"].append(submission.created)\n",
    "    control_dict[\"body\"].append(submission.selftext)"
   ]
  },
  {
   "cell_type": "markdown",
   "metadata": {},
   "source": [
    "__AskHR:__"
   ]
  },
  {
   "cell_type": "code",
   "execution_count": 14,
   "metadata": {},
   "outputs": [],
   "source": [
    "askhr = reddit.subreddit('AskHR')\n",
    "askhr_subreddit = askhr.hot(limit=1000)"
   ]
  },
  {
   "cell_type": "code",
   "execution_count": 15,
   "metadata": {},
   "outputs": [],
   "source": [
    "for submission in askhr_subreddit:\n",
    "    control_dict[\"title\"].append(submission.title)\n",
    "    control_dict['subreddit'].append(submission.subreddit)\n",
    "    control_dict[\"score\"].append(submission.score)\n",
    "    control_dict[\"id\"].append(submission.id)\n",
    "    control_dict[\"url\"].append(submission.url)\n",
    "    control_dict[\"comms_num\"].append(submission.num_comments)\n",
    "    control_dict[\"created\"].append(submission.created)\n",
    "    control_dict[\"body\"].append(submission.selftext)"
   ]
  },
  {
   "cell_type": "markdown",
   "metadata": {},
   "source": [
    "__Create and Safe Data Frame:__"
   ]
  },
  {
   "cell_type": "code",
   "execution_count": 24,
   "metadata": {},
   "outputs": [],
   "source": [
    "control_df = pd.DataFrame(control_dict)"
   ]
  },
  {
   "cell_type": "code",
   "execution_count": 25,
   "metadata": {},
   "outputs": [
    {
     "data": {
      "text/plain": [
       "(3143, 8)"
      ]
     },
     "execution_count": 25,
     "metadata": {},
     "output_type": "execute_result"
    }
   ],
   "source": [
    "control_df.shape"
   ]
  },
  {
   "cell_type": "code",
   "execution_count": 26,
   "metadata": {},
   "outputs": [
    {
     "data": {
      "text/plain": [
       "AskHR              997\n",
       "HomeImprovement    993\n",
       "Advice             950\n",
       "organizing         203\n",
       "Name: subreddit, dtype: int64"
      ]
     },
     "execution_count": 26,
     "metadata": {},
     "output_type": "execute_result"
    }
   ],
   "source": [
    "control_df.subreddit.value_counts()"
   ]
  },
  {
   "cell_type": "code",
   "execution_count": 27,
   "metadata": {
    "scrolled": true
   },
   "outputs": [
    {
     "data": {
      "text/html": [
       "<div>\n",
       "<style scoped>\n",
       "    .dataframe tbody tr th:only-of-type {\n",
       "        vertical-align: middle;\n",
       "    }\n",
       "\n",
       "    .dataframe tbody tr th {\n",
       "        vertical-align: top;\n",
       "    }\n",
       "\n",
       "    .dataframe thead th {\n",
       "        text-align: right;\n",
       "    }\n",
       "</style>\n",
       "<table border=\"1\" class=\"dataframe\">\n",
       "  <thead>\n",
       "    <tr style=\"text-align: right;\">\n",
       "      <th></th>\n",
       "      <th>title</th>\n",
       "      <th>subreddit</th>\n",
       "      <th>score</th>\n",
       "      <th>id</th>\n",
       "      <th>url</th>\n",
       "      <th>comms_num</th>\n",
       "      <th>created</th>\n",
       "      <th>body</th>\n",
       "    </tr>\n",
       "  </thead>\n",
       "  <tbody>\n",
       "    <tr>\n",
       "      <td>0</td>\n",
       "      <td>Food Items in Kitchen Cabinets</td>\n",
       "      <td>organizing</td>\n",
       "      <td>1</td>\n",
       "      <td>dieger</td>\n",
       "      <td>https://www.reddit.com/r/organizing/comments/d...</td>\n",
       "      <td>2</td>\n",
       "      <td>1.571202e+09</td>\n",
       "      <td>I'm a recent college graduate with absolutely ...</td>\n",
       "    </tr>\n",
       "    <tr>\n",
       "      <td>1</td>\n",
       "      <td>Storing professional clothes long-term</td>\n",
       "      <td>organizing</td>\n",
       "      <td>3</td>\n",
       "      <td>dfzko9</td>\n",
       "      <td>https://www.reddit.com/r/organizing/comments/d...</td>\n",
       "      <td>1</td>\n",
       "      <td>1.570750e+09</td>\n",
       "      <td>I work from home, so I don't have much use for...</td>\n",
       "    </tr>\n",
       "    <tr>\n",
       "      <td>2</td>\n",
       "      <td>Organizing christmas cards</td>\n",
       "      <td>organizing</td>\n",
       "      <td>1</td>\n",
       "      <td>df737y</td>\n",
       "      <td>https://www.reddit.com/r/organizing/comments/d...</td>\n",
       "      <td>3</td>\n",
       "      <td>1.570601e+09</td>\n",
       "      <td>HI - I could use some advice.  I have the habi...</td>\n",
       "    </tr>\n",
       "    <tr>\n",
       "      <td>3</td>\n",
       "      <td>Is there a storage container that is around 2....</td>\n",
       "      <td>organizing</td>\n",
       "      <td>5</td>\n",
       "      <td>de5ljj</td>\n",
       "      <td>https://www.reddit.com/r/organizing/comments/d...</td>\n",
       "      <td>4</td>\n",
       "      <td>1.570409e+09</td>\n",
       "      <td>Hi,\\n\\nI've been scouring various online store...</td>\n",
       "    </tr>\n",
       "    <tr>\n",
       "      <td>4</td>\n",
       "      <td>My Journey as a Non-extreme Minimalist</td>\n",
       "      <td>organizing</td>\n",
       "      <td>6</td>\n",
       "      <td>ddvlla</td>\n",
       "      <td>https://youtu.be/nowZkVTGERw</td>\n",
       "      <td>0</td>\n",
       "      <td>1.570349e+09</td>\n",
       "      <td></td>\n",
       "    </tr>\n",
       "  </tbody>\n",
       "</table>\n",
       "</div>"
      ],
      "text/plain": [
       "                                               title   subreddit  score  \\\n",
       "0                     Food Items in Kitchen Cabinets  organizing      1   \n",
       "1             Storing professional clothes long-term  organizing      3   \n",
       "2                         Organizing christmas cards  organizing      1   \n",
       "3  Is there a storage container that is around 2....  organizing      5   \n",
       "4             My Journey as a Non-extreme Minimalist  organizing      6   \n",
       "\n",
       "       id                                                url  comms_num  \\\n",
       "0  dieger  https://www.reddit.com/r/organizing/comments/d...          2   \n",
       "1  dfzko9  https://www.reddit.com/r/organizing/comments/d...          1   \n",
       "2  df737y  https://www.reddit.com/r/organizing/comments/d...          3   \n",
       "3  de5ljj  https://www.reddit.com/r/organizing/comments/d...          4   \n",
       "4  ddvlla                       https://youtu.be/nowZkVTGERw          0   \n",
       "\n",
       "        created                                               body  \n",
       "0  1.571202e+09  I'm a recent college graduate with absolutely ...  \n",
       "1  1.570750e+09  I work from home, so I don't have much use for...  \n",
       "2  1.570601e+09  HI - I could use some advice.  I have the habi...  \n",
       "3  1.570409e+09  Hi,\\n\\nI've been scouring various online store...  \n",
       "4  1.570349e+09                                                     "
      ]
     },
     "execution_count": 27,
     "metadata": {},
     "output_type": "execute_result"
    }
   ],
   "source": [
    "control_df.head()"
   ]
  },
  {
   "cell_type": "code",
   "execution_count": 28,
   "metadata": {},
   "outputs": [],
   "source": [
    "control_df.to_csv(r\"../data/control.csv\", index=False)"
   ]
  },
  {
   "cell_type": "markdown",
   "metadata": {},
   "source": [
    "## 1.4. Experiment Data:"
   ]
  },
  {
   "cell_type": "markdown",
   "metadata": {},
   "source": [
    "__Subreddits:__\n",
    "    - sleeptrain 1000  \n",
    "    - AttachmentParenting 1000 "
   ]
  },
  {
   "cell_type": "markdown",
   "metadata": {},
   "source": [
    "__Create empty dictionary:__"
   ]
  },
  {
   "cell_type": "code",
   "execution_count": 74,
   "metadata": {},
   "outputs": [],
   "source": [
    "attachment_dict =        { \"title\":[],\n",
    "                \"subreddit\":[],\n",
    "                \"score\":[], \n",
    "                \"id\":[], \n",
    "                \"url\":[], \n",
    "                \"comms_num\": [], \n",
    "                \"created\": [], \n",
    "                \"body\":[]}"
   ]
  },
  {
   "cell_type": "code",
   "execution_count": 119,
   "metadata": {},
   "outputs": [],
   "source": [
    "parenting_dict=        { \"title\":[],\n",
    "                \"subreddit\":[],\n",
    "                \"score\":[], \n",
    "                \"id\":[], \n",
    "                \"url\":[], \n",
    "                \"comms_num\": [], \n",
    "                \"created\": [], \n",
    "                \"body\":[]}"
   ]
  },
  {
   "cell_type": "code",
   "execution_count": 75,
   "metadata": {},
   "outputs": [],
   "source": [
    "traditional_dict =        { \"title\":[],\n",
    "                \"subreddit\":[],\n",
    "                \"score\":[], \n",
    "                \"id\":[], \n",
    "                \"url\":[], \n",
    "                \"comms_num\": [], \n",
    "                \"created\": [], \n",
    "                \"body\":[]}"
   ]
  },
  {
   "cell_type": "code",
   "execution_count": 127,
   "metadata": {},
   "outputs": [],
   "source": [
    "diy_dict =        { \"title\":[],\n",
    "                \"subreddit\":[],\n",
    "                \"score\":[], \n",
    "                \"id\":[], \n",
    "                \"url\":[], \n",
    "                \"comms_num\": [], \n",
    "                \"created\": [], \n",
    "                \"body\":[]}"
   ]
  },
  {
   "cell_type": "markdown",
   "metadata": {},
   "source": [
    "__Parenting:__"
   ]
  },
  {
   "cell_type": "code",
   "execution_count": 121,
   "metadata": {},
   "outputs": [],
   "source": [
    "parenting = reddit.subreddit('parenting')\n",
    "parenting_subreddit = parenting.hot(limit=1000)"
   ]
  },
  {
   "cell_type": "code",
   "execution_count": 122,
   "metadata": {},
   "outputs": [],
   "source": [
    "for submission in parenting_subreddit:\n",
    "    parenting_dict[\"title\"].append(submission.title)\n",
    "    parenting_dict['subreddit'].append(submission.subreddit)\n",
    "    parenting_dict[\"score\"].append(submission.score)\n",
    "    parenting_dict[\"id\"].append(submission.id)\n",
    "    parenting_dict[\"url\"].append(submission.url)\n",
    "    parenting_dict[\"comms_num\"].append(submission.num_comments)\n",
    "    parenting_dict[\"created\"].append(submission.created)\n",
    "    parenting_dict[\"body\"].append(submission.selftext)"
   ]
  },
  {
   "cell_type": "markdown",
   "metadata": {},
   "source": [
    "__Sleeptrain:__"
   ]
  },
  {
   "cell_type": "code",
   "execution_count": 72,
   "metadata": {},
   "outputs": [],
   "source": [
    "sleeptrain = reddit.subreddit('sleeptrain')\n",
    "sleeptrain_subreddit = sleeptrain.hot(limit=1000)"
   ]
  },
  {
   "cell_type": "code",
   "execution_count": 76,
   "metadata": {},
   "outputs": [],
   "source": [
    "for submission in sleeptrain_subreddit:\n",
    "    traditional_dict[\"title\"].append(submission.title)\n",
    "    traditional_dict['subreddit'].append(submission.subreddit)\n",
    "    traditional_dict[\"score\"].append(submission.score)\n",
    "    traditional_dict[\"id\"].append(submission.id)\n",
    "    traditional_dict[\"url\"].append(submission.url)\n",
    "    traditional_dict[\"comms_num\"].append(submission.num_comments)\n",
    "    traditional_dict[\"created\"].append(submission.created)\n",
    "    traditional_dict[\"body\"].append(submission.selftext)"
   ]
  },
  {
   "cell_type": "markdown",
   "metadata": {},
   "source": [
    "__DIY:__"
   ]
  },
  {
   "cell_type": "code",
   "execution_count": 128,
   "metadata": {},
   "outputs": [],
   "source": [
    "diy = reddit.subreddit('diy')\n",
    "diy_subreddit = diy.hot(limit=1000)"
   ]
  },
  {
   "cell_type": "code",
   "execution_count": 129,
   "metadata": {},
   "outputs": [],
   "source": [
    "for submission in diy_subreddit:\n",
    "    diy_dict[\"title\"].append(submission.title)\n",
    "    diy_dict['subreddit'].append(submission.subreddit)\n",
    "    diy_dict[\"score\"].append(submission.score)\n",
    "    diy_dict[\"id\"].append(submission.id)\n",
    "    diy_dict[\"url\"].append(submission.url)\n",
    "    diy_dict[\"comms_num\"].append(submission.num_comments)\n",
    "    diy_dict[\"created\"].append(submission.created)\n",
    "    diy_dict[\"body\"].append(submission.selftext)"
   ]
  },
  {
   "cell_type": "markdown",
   "metadata": {},
   "source": [
    "__AttachmentParenting:__"
   ]
  },
  {
   "cell_type": "code",
   "execution_count": 77,
   "metadata": {},
   "outputs": [],
   "source": [
    "attachment = reddit.subreddit('AttachmentParenting')\n",
    "attachment_subreddit = attachment.hot(limit=1000)"
   ]
  },
  {
   "cell_type": "code",
   "execution_count": 84,
   "metadata": {},
   "outputs": [],
   "source": [
    "for submission in attachment_subreddit:\n",
    "    attachment_dict[\"title\"].append(submission.title)\n",
    "    attachment_dict['subreddit'].append(submission.subreddit)\n",
    "    attachment_dict[\"score\"].append(submission.score)\n",
    "    attachment_dict[\"id\"].append(submission.id)\n",
    "    attachment_dict[\"url\"].append(submission.url)\n",
    "    attachment_dict[\"comms_num\"].append(submission.num_comments)\n",
    "    attachment_dict[\"created\"].append(submission.created)\n",
    "    attachment_dict[\"body\"].append(submission.selftext)"
   ]
  },
  {
   "cell_type": "markdown",
   "metadata": {},
   "source": [
    "### 1.4.1. Create and Safe DataFrame:"
   ]
  },
  {
   "cell_type": "markdown",
   "metadata": {},
   "source": [
    "__traditional:__"
   ]
  },
  {
   "cell_type": "code",
   "execution_count": 81,
   "metadata": {},
   "outputs": [],
   "source": [
    "traditional_df = pd.DataFrame(traditional_dict)"
   ]
  },
  {
   "cell_type": "code",
   "execution_count": 83,
   "metadata": {
    "scrolled": true
   },
   "outputs": [
    {
     "data": {
      "text/html": [
       "<div>\n",
       "<style scoped>\n",
       "    .dataframe tbody tr th:only-of-type {\n",
       "        vertical-align: middle;\n",
       "    }\n",
       "\n",
       "    .dataframe tbody tr th {\n",
       "        vertical-align: top;\n",
       "    }\n",
       "\n",
       "    .dataframe thead th {\n",
       "        text-align: right;\n",
       "    }\n",
       "</style>\n",
       "<table border=\"1\" class=\"dataframe\">\n",
       "  <thead>\n",
       "    <tr style=\"text-align: right;\">\n",
       "      <th></th>\n",
       "      <th>title</th>\n",
       "      <th>subreddit</th>\n",
       "      <th>score</th>\n",
       "      <th>id</th>\n",
       "      <th>url</th>\n",
       "      <th>comms_num</th>\n",
       "      <th>created</th>\n",
       "      <th>body</th>\n",
       "    </tr>\n",
       "  </thead>\n",
       "  <tbody>\n",
       "    <tr>\n",
       "      <td>0</td>\n",
       "      <td>When and why did you start sleep training?</td>\n",
       "      <td>sleeptrain</td>\n",
       "      <td>6</td>\n",
       "      <td>4okvye</td>\n",
       "      <td>https://www.reddit.com/r/sleeptrain/comments/4...</td>\n",
       "      <td>23</td>\n",
       "      <td>1.466220e+09</td>\n",
       "      <td>How old was your baby (or babies) when you dec...</td>\n",
       "    </tr>\n",
       "    <tr>\n",
       "      <td>1</td>\n",
       "      <td>Hi, I'm your mod! It's been a while, so let's ...</td>\n",
       "      <td>sleeptrain</td>\n",
       "      <td>46</td>\n",
       "      <td>8jd8oo</td>\n",
       "      <td>https://www.reddit.com/r/sleeptrain/comments/8...</td>\n",
       "      <td>32</td>\n",
       "      <td>1.526341e+09</td>\n",
       "      <td>I haven't posted in here for a while, mainly b...</td>\n",
       "    </tr>\n",
       "    <tr>\n",
       "      <td>2</td>\n",
       "      <td>Is it too late at 9 months ? And how to start ...</td>\n",
       "      <td>sleeptrain</td>\n",
       "      <td>9</td>\n",
       "      <td>dh1l1z</td>\n",
       "      <td>https://www.reddit.com/r/sleeptrain/comments/d...</td>\n",
       "      <td>7</td>\n",
       "      <td>1.570946e+09</td>\n",
       "      <td></td>\n",
       "    </tr>\n",
       "    <tr>\n",
       "      <td>3</td>\n",
       "      <td>Can someone explain/list the various sleep tra...</td>\n",
       "      <td>sleeptrain</td>\n",
       "      <td>2</td>\n",
       "      <td>dh382f</td>\n",
       "      <td>https://www.reddit.com/r/sleeptrain/comments/d...</td>\n",
       "      <td>3</td>\n",
       "      <td>1.570954e+09</td>\n",
       "      <td>FTM and coming up to the time I would like sta...</td>\n",
       "    </tr>\n",
       "    <tr>\n",
       "      <td>4</td>\n",
       "      <td>Advice when schedule gets tossed out window?</td>\n",
       "      <td>sleeptrain</td>\n",
       "      <td>5</td>\n",
       "      <td>dgzafl</td>\n",
       "      <td>https://www.reddit.com/r/sleeptrain/comments/d...</td>\n",
       "      <td>2</td>\n",
       "      <td>1.570935e+09</td>\n",
       "      <td>Our almost 12 month old slept super late this ...</td>\n",
       "    </tr>\n",
       "  </tbody>\n",
       "</table>\n",
       "</div>"
      ],
      "text/plain": [
       "                                               title   subreddit  score  \\\n",
       "0         When and why did you start sleep training?  sleeptrain      6   \n",
       "1  Hi, I'm your mod! It's been a while, so let's ...  sleeptrain     46   \n",
       "2  Is it too late at 9 months ? And how to start ...  sleeptrain      9   \n",
       "3  Can someone explain/list the various sleep tra...  sleeptrain      2   \n",
       "4       Advice when schedule gets tossed out window?  sleeptrain      5   \n",
       "\n",
       "       id                                                url  comms_num  \\\n",
       "0  4okvye  https://www.reddit.com/r/sleeptrain/comments/4...         23   \n",
       "1  8jd8oo  https://www.reddit.com/r/sleeptrain/comments/8...         32   \n",
       "2  dh1l1z  https://www.reddit.com/r/sleeptrain/comments/d...          7   \n",
       "3  dh382f  https://www.reddit.com/r/sleeptrain/comments/d...          3   \n",
       "4  dgzafl  https://www.reddit.com/r/sleeptrain/comments/d...          2   \n",
       "\n",
       "        created                                               body  \n",
       "0  1.466220e+09  How old was your baby (or babies) when you dec...  \n",
       "1  1.526341e+09  I haven't posted in here for a while, mainly b...  \n",
       "2  1.570946e+09                                                     \n",
       "3  1.570954e+09  FTM and coming up to the time I would like sta...  \n",
       "4  1.570935e+09  Our almost 12 month old slept super late this ...  "
      ]
     },
     "execution_count": 83,
     "metadata": {},
     "output_type": "execute_result"
    }
   ],
   "source": [
    "traditional_df.head()"
   ]
  },
  {
   "cell_type": "code",
   "execution_count": 106,
   "metadata": {},
   "outputs": [],
   "source": [
    "traditional_df.to_csv(r\"../data/traditional.csv\", index=False)"
   ]
  },
  {
   "cell_type": "markdown",
   "metadata": {},
   "source": [
    "__parenting:__"
   ]
  },
  {
   "cell_type": "code",
   "execution_count": 124,
   "metadata": {},
   "outputs": [],
   "source": [
    "parenting_df = pd.DataFrame(parenting_dict)"
   ]
  },
  {
   "cell_type": "code",
   "execution_count": 125,
   "metadata": {
    "scrolled": true
   },
   "outputs": [
    {
     "data": {
      "text/html": [
       "<div>\n",
       "<style scoped>\n",
       "    .dataframe tbody tr th:only-of-type {\n",
       "        vertical-align: middle;\n",
       "    }\n",
       "\n",
       "    .dataframe tbody tr th {\n",
       "        vertical-align: top;\n",
       "    }\n",
       "\n",
       "    .dataframe thead th {\n",
       "        text-align: right;\n",
       "    }\n",
       "</style>\n",
       "<table border=\"1\" class=\"dataframe\">\n",
       "  <thead>\n",
       "    <tr style=\"text-align: right;\">\n",
       "      <th></th>\n",
       "      <th>title</th>\n",
       "      <th>subreddit</th>\n",
       "      <th>score</th>\n",
       "      <th>id</th>\n",
       "      <th>url</th>\n",
       "      <th>comms_num</th>\n",
       "      <th>created</th>\n",
       "      <th>body</th>\n",
       "    </tr>\n",
       "  </thead>\n",
       "  <tbody>\n",
       "    <tr>\n",
       "      <td>0</td>\n",
       "      <td>Weekly - Ask parents everything - October 08, ...</td>\n",
       "      <td>Parenting</td>\n",
       "      <td>5</td>\n",
       "      <td>df0f0o</td>\n",
       "      <td>https://www.reddit.com/r/Parenting/comments/df...</td>\n",
       "      <td>43</td>\n",
       "      <td>1.570572e+09</td>\n",
       "      <td>This bi-weekly thread is meant as a place for ...</td>\n",
       "    </tr>\n",
       "    <tr>\n",
       "      <td>1</td>\n",
       "      <td>Weekly - Things my kid said - to share all the...</td>\n",
       "      <td>Parenting</td>\n",
       "      <td>4</td>\n",
       "      <td>dfyhth</td>\n",
       "      <td>https://www.reddit.com/r/Parenting/comments/df...</td>\n",
       "      <td>11</td>\n",
       "      <td>1.570745e+09</td>\n",
       "      <td>This is a weekly thread where you can share th...</td>\n",
       "    </tr>\n",
       "    <tr>\n",
       "      <td>2</td>\n",
       "      <td>My partner is leaving me in the middle of an a...</td>\n",
       "      <td>Parenting</td>\n",
       "      <td>385</td>\n",
       "      <td>dh3d9k</td>\n",
       "      <td>https://www.reddit.com/r/Parenting/comments/dh...</td>\n",
       "      <td>34</td>\n",
       "      <td>1.570955e+09</td>\n",
       "      <td>Me and my partner have been together for about...</td>\n",
       "    </tr>\n",
       "    <tr>\n",
       "      <td>3</td>\n",
       "      <td>Pro-Tip: Learning Mom's Phone #</td>\n",
       "      <td>Parenting</td>\n",
       "      <td>269</td>\n",
       "      <td>dh3upe</td>\n",
       "      <td>https://www.reddit.com/r/Parenting/comments/dh...</td>\n",
       "      <td>22</td>\n",
       "      <td>1.570958e+09</td>\n",
       "      <td>My kindergartener was super resistant to learn...</td>\n",
       "    </tr>\n",
       "    <tr>\n",
       "      <td>4</td>\n",
       "      <td>What’s the most annoying comments people make ...</td>\n",
       "      <td>Parenting</td>\n",
       "      <td>714</td>\n",
       "      <td>dgw3e6</td>\n",
       "      <td>https://www.reddit.com/r/Parenting/comments/dg...</td>\n",
       "      <td>705</td>\n",
       "      <td>1.570921e+09</td>\n",
       "      <td>I get tired of hearing this from my parents an...</td>\n",
       "    </tr>\n",
       "  </tbody>\n",
       "</table>\n",
       "</div>"
      ],
      "text/plain": [
       "                                               title  subreddit  score  \\\n",
       "0  Weekly - Ask parents everything - October 08, ...  Parenting      5   \n",
       "1  Weekly - Things my kid said - to share all the...  Parenting      4   \n",
       "2  My partner is leaving me in the middle of an a...  Parenting    385   \n",
       "3                    Pro-Tip: Learning Mom's Phone #  Parenting    269   \n",
       "4  What’s the most annoying comments people make ...  Parenting    714   \n",
       "\n",
       "       id                                                url  comms_num  \\\n",
       "0  df0f0o  https://www.reddit.com/r/Parenting/comments/df...         43   \n",
       "1  dfyhth  https://www.reddit.com/r/Parenting/comments/df...         11   \n",
       "2  dh3d9k  https://www.reddit.com/r/Parenting/comments/dh...         34   \n",
       "3  dh3upe  https://www.reddit.com/r/Parenting/comments/dh...         22   \n",
       "4  dgw3e6  https://www.reddit.com/r/Parenting/comments/dg...        705   \n",
       "\n",
       "        created                                               body  \n",
       "0  1.570572e+09  This bi-weekly thread is meant as a place for ...  \n",
       "1  1.570745e+09  This is a weekly thread where you can share th...  \n",
       "2  1.570955e+09  Me and my partner have been together for about...  \n",
       "3  1.570958e+09  My kindergartener was super resistant to learn...  \n",
       "4  1.570921e+09  I get tired of hearing this from my parents an...  "
      ]
     },
     "execution_count": 125,
     "metadata": {},
     "output_type": "execute_result"
    }
   ],
   "source": [
    "parenting_df.head()"
   ]
  },
  {
   "cell_type": "code",
   "execution_count": 126,
   "metadata": {},
   "outputs": [],
   "source": [
    "parenting_df.to_csv(r\"../data/parenting.csv\", index=False)"
   ]
  },
  {
   "cell_type": "markdown",
   "metadata": {},
   "source": [
    "__AttachmentParenting:__"
   ]
  },
  {
   "cell_type": "code",
   "execution_count": 85,
   "metadata": {},
   "outputs": [],
   "source": [
    "attachment_df = pd.DataFrame(attachment_dict)"
   ]
  },
  {
   "cell_type": "code",
   "execution_count": 86,
   "metadata": {},
   "outputs": [
    {
     "data": {
      "text/html": [
       "<div>\n",
       "<style scoped>\n",
       "    .dataframe tbody tr th:only-of-type {\n",
       "        vertical-align: middle;\n",
       "    }\n",
       "\n",
       "    .dataframe tbody tr th {\n",
       "        vertical-align: top;\n",
       "    }\n",
       "\n",
       "    .dataframe thead th {\n",
       "        text-align: right;\n",
       "    }\n",
       "</style>\n",
       "<table border=\"1\" class=\"dataframe\">\n",
       "  <thead>\n",
       "    <tr style=\"text-align: right;\">\n",
       "      <th></th>\n",
       "      <th>title</th>\n",
       "      <th>subreddit</th>\n",
       "      <th>score</th>\n",
       "      <th>id</th>\n",
       "      <th>url</th>\n",
       "      <th>comms_num</th>\n",
       "      <th>created</th>\n",
       "      <th>body</th>\n",
       "    </tr>\n",
       "  </thead>\n",
       "  <tbody>\n",
       "    <tr>\n",
       "      <td>0</td>\n",
       "      <td>18 month old about to start nursery 2 mornings...</td>\n",
       "      <td>AttachmentParenting</td>\n",
       "      <td>7</td>\n",
       "      <td>dh1esi</td>\n",
       "      <td>https://www.reddit.com/r/AttachmentParenting/c...</td>\n",
       "      <td>3</td>\n",
       "      <td>1.570946e+09</td>\n",
       "      <td>Basically as the title says. Posting here as I...</td>\n",
       "    </tr>\n",
       "    <tr>\n",
       "      <td>1</td>\n",
       "      <td>My LO absolutely HATES any moisture on his dia...</td>\n",
       "      <td>AttachmentParenting</td>\n",
       "      <td>1</td>\n",
       "      <td>dh1wxm</td>\n",
       "      <td>https://www.reddit.com/r/AttachmentParenting/c...</td>\n",
       "      <td>6</td>\n",
       "      <td>1.570948e+09</td>\n",
       "      <td>My 9month babe absolutely HATES wet diapers. I...</td>\n",
       "    </tr>\n",
       "    <tr>\n",
       "      <td>2</td>\n",
       "      <td>How do you make a toddler take a nap?</td>\n",
       "      <td>AttachmentParenting</td>\n",
       "      <td>14</td>\n",
       "      <td>dgmunb</td>\n",
       "      <td>https://www.reddit.com/r/AttachmentParenting/c...</td>\n",
       "      <td>33</td>\n",
       "      <td>1.570864e+09</td>\n",
       "      <td>So I've been wearing our baby on my front and ...</td>\n",
       "    </tr>\n",
       "    <tr>\n",
       "      <td>3</td>\n",
       "      <td>First work trip...</td>\n",
       "      <td>AttachmentParenting</td>\n",
       "      <td>7</td>\n",
       "      <td>dgo364</td>\n",
       "      <td>https://www.reddit.com/r/AttachmentParenting/c...</td>\n",
       "      <td>10</td>\n",
       "      <td>1.570870e+09</td>\n",
       "      <td>My husband and I both work from home, so we’ve...</td>\n",
       "    </tr>\n",
       "    <tr>\n",
       "      <td>4</td>\n",
       "      <td>Success!</td>\n",
       "      <td>AttachmentParenting</td>\n",
       "      <td>38</td>\n",
       "      <td>dfucch</td>\n",
       "      <td>https://www.reddit.com/r/AttachmentParenting/c...</td>\n",
       "      <td>1</td>\n",
       "      <td>1.570720e+09</td>\n",
       "      <td>My almost 4 year old is sleeping in his own be...</td>\n",
       "    </tr>\n",
       "  </tbody>\n",
       "</table>\n",
       "</div>"
      ],
      "text/plain": [
       "                                               title            subreddit  \\\n",
       "0  18 month old about to start nursery 2 mornings...  AttachmentParenting   \n",
       "1  My LO absolutely HATES any moisture on his dia...  AttachmentParenting   \n",
       "2              How do you make a toddler take a nap?  AttachmentParenting   \n",
       "3                                 First work trip...  AttachmentParenting   \n",
       "4                                           Success!  AttachmentParenting   \n",
       "\n",
       "   score      id                                                url  \\\n",
       "0      7  dh1esi  https://www.reddit.com/r/AttachmentParenting/c...   \n",
       "1      1  dh1wxm  https://www.reddit.com/r/AttachmentParenting/c...   \n",
       "2     14  dgmunb  https://www.reddit.com/r/AttachmentParenting/c...   \n",
       "3      7  dgo364  https://www.reddit.com/r/AttachmentParenting/c...   \n",
       "4     38  dfucch  https://www.reddit.com/r/AttachmentParenting/c...   \n",
       "\n",
       "   comms_num       created                                               body  \n",
       "0          3  1.570946e+09  Basically as the title says. Posting here as I...  \n",
       "1          6  1.570948e+09  My 9month babe absolutely HATES wet diapers. I...  \n",
       "2         33  1.570864e+09  So I've been wearing our baby on my front and ...  \n",
       "3         10  1.570870e+09  My husband and I both work from home, so we’ve...  \n",
       "4          1  1.570720e+09  My almost 4 year old is sleeping in his own be...  "
      ]
     },
     "execution_count": 86,
     "metadata": {},
     "output_type": "execute_result"
    }
   ],
   "source": [
    "attachment_df.head()"
   ]
  },
  {
   "cell_type": "code",
   "execution_count": 105,
   "metadata": {},
   "outputs": [],
   "source": [
    "attachment_df.to_csv(r\"../data/attachment.csv\", index=False)"
   ]
  },
  {
   "cell_type": "markdown",
   "metadata": {},
   "source": [
    "__DIY:__"
   ]
  },
  {
   "cell_type": "code",
   "execution_count": 130,
   "metadata": {},
   "outputs": [],
   "source": [
    "diy_df = pd.DataFrame(diy_dict)"
   ]
  },
  {
   "cell_type": "code",
   "execution_count": 131,
   "metadata": {},
   "outputs": [
    {
     "data": {
      "text/html": [
       "<div>\n",
       "<style scoped>\n",
       "    .dataframe tbody tr th:only-of-type {\n",
       "        vertical-align: middle;\n",
       "    }\n",
       "\n",
       "    .dataframe tbody tr th {\n",
       "        vertical-align: top;\n",
       "    }\n",
       "\n",
       "    .dataframe thead th {\n",
       "        text-align: right;\n",
       "    }\n",
       "</style>\n",
       "<table border=\"1\" class=\"dataframe\">\n",
       "  <thead>\n",
       "    <tr style=\"text-align: right;\">\n",
       "      <th></th>\n",
       "      <th>title</th>\n",
       "      <th>subreddit</th>\n",
       "      <th>score</th>\n",
       "      <th>id</th>\n",
       "      <th>url</th>\n",
       "      <th>comms_num</th>\n",
       "      <th>created</th>\n",
       "      <th>body</th>\n",
       "    </tr>\n",
       "  </thead>\n",
       "  <tbody>\n",
       "    <tr>\n",
       "      <td>0</td>\n",
       "      <td>General Feedback/Getting Started Questions and...</td>\n",
       "      <td>DIY</td>\n",
       "      <td>19</td>\n",
       "      <td>de4g85</td>\n",
       "      <td>https://www.reddit.com/r/DIY/comments/de4g85/g...</td>\n",
       "      <td>136</td>\n",
       "      <td>1.570403e+09</td>\n",
       "      <td>**General Feedback/Getting Started Q&amp;A Thread*...</td>\n",
       "    </tr>\n",
       "    <tr>\n",
       "      <td>1</td>\n",
       "      <td>/r/DIY is looking for moderators!</td>\n",
       "      <td>DIY</td>\n",
       "      <td>202</td>\n",
       "      <td>c7jzxz</td>\n",
       "      <td>https://www.reddit.com/r/DIY/comments/c7jzxz/r...</td>\n",
       "      <td>41</td>\n",
       "      <td>1.561960e+09</td>\n",
       "      <td>Hi all,\\n\\nThe time has come for us to once ag...</td>\n",
       "    </tr>\n",
       "    <tr>\n",
       "      <td>2</td>\n",
       "      <td>DIY: Melisandre’s necklace from Game of Thrones</td>\n",
       "      <td>DIY</td>\n",
       "      <td>1700</td>\n",
       "      <td>dh1kz6</td>\n",
       "      <td>https://imgur.com/a/FuWkP7Y</td>\n",
       "      <td>95</td>\n",
       "      <td>1.570946e+09</td>\n",
       "      <td></td>\n",
       "    </tr>\n",
       "    <tr>\n",
       "      <td>3</td>\n",
       "      <td>Removed built in planters under bay window on ...</td>\n",
       "      <td>DIY</td>\n",
       "      <td>172</td>\n",
       "      <td>dgzash</td>\n",
       "      <td>https://www.reddit.com/r/DIY/comments/dgzash/r...</td>\n",
       "      <td>42</td>\n",
       "      <td>1.570936e+09</td>\n",
       "      <td>https://imgur.com/a/tEZSz3R\\n\\nYou can see in ...</td>\n",
       "    </tr>\n",
       "    <tr>\n",
       "      <td>4</td>\n",
       "      <td>Loose door handle</td>\n",
       "      <td>DIY</td>\n",
       "      <td>88</td>\n",
       "      <td>dgw0ug</td>\n",
       "      <td>https://www.reddit.com/r/DIY/comments/dgw0ug/l...</td>\n",
       "      <td>23</td>\n",
       "      <td>1.570920e+09</td>\n",
       "      <td>Hey guys, sorry if this is the wrong sub. I'm ...</td>\n",
       "    </tr>\n",
       "  </tbody>\n",
       "</table>\n",
       "</div>"
      ],
      "text/plain": [
       "                                               title subreddit  score      id  \\\n",
       "0  General Feedback/Getting Started Questions and...       DIY     19  de4g85   \n",
       "1                  /r/DIY is looking for moderators!       DIY    202  c7jzxz   \n",
       "2    DIY: Melisandre’s necklace from Game of Thrones       DIY   1700  dh1kz6   \n",
       "3  Removed built in planters under bay window on ...       DIY    172  dgzash   \n",
       "4                                  Loose door handle       DIY     88  dgw0ug   \n",
       "\n",
       "                                                 url  comms_num       created  \\\n",
       "0  https://www.reddit.com/r/DIY/comments/de4g85/g...        136  1.570403e+09   \n",
       "1  https://www.reddit.com/r/DIY/comments/c7jzxz/r...         41  1.561960e+09   \n",
       "2                        https://imgur.com/a/FuWkP7Y         95  1.570946e+09   \n",
       "3  https://www.reddit.com/r/DIY/comments/dgzash/r...         42  1.570936e+09   \n",
       "4  https://www.reddit.com/r/DIY/comments/dgw0ug/l...         23  1.570920e+09   \n",
       "\n",
       "                                                body  \n",
       "0  **General Feedback/Getting Started Q&A Thread*...  \n",
       "1  Hi all,\\n\\nThe time has come for us to once ag...  \n",
       "2                                                     \n",
       "3  https://imgur.com/a/tEZSz3R\\n\\nYou can see in ...  \n",
       "4  Hey guys, sorry if this is the wrong sub. I'm ...  "
      ]
     },
     "execution_count": 131,
     "metadata": {},
     "output_type": "execute_result"
    }
   ],
   "source": [
    "diy_df.head()"
   ]
  },
  {
   "cell_type": "code",
   "execution_count": 133,
   "metadata": {},
   "outputs": [],
   "source": [
    "diy_df.to_csv(r\"../data/diy.csv\", index=False)"
   ]
  }
 ],
 "metadata": {
  "kernelspec": {
   "display_name": "Python 3",
   "language": "python",
   "name": "python3"
  },
  "language_info": {
   "codemirror_mode": {
    "name": "ipython",
    "version": 3
   },
   "file_extension": ".py",
   "mimetype": "text/x-python",
   "name": "python",
   "nbconvert_exporter": "python",
   "pygments_lexer": "ipython3",
   "version": "3.7.3"
  }
 },
 "nbformat": 4,
 "nbformat_minor": 2
}
